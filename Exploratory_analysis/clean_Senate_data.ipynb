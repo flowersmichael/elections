{
 "metadata": {
  "language_info": {
   "codemirror_mode": {
    "name": "ipython",
    "version": 3
   },
   "file_extension": ".py",
   "mimetype": "text/x-python",
   "name": "python",
   "nbconvert_exporter": "python",
   "pygments_lexer": "ipython3",
   "version": "3.7.10"
  },
  "orig_nbformat": 2,
  "kernelspec": {
   "name": "python3710jvsc74a57bd0c10d354e963c3ef3cfe26ce7f2c15db051cec7895d853c3c04a448c95c5a7793",
   "display_name": "Python 3.7.10 64-bit ('tf': conda)"
  },
  "metadata": {
   "interpreter": {
    "hash": "c10d354e963c3ef3cfe26ce7f2c15db051cec7895d853c3c04a448c95c5a7793"
   }
  }
 },
 "nbformat": 4,
 "nbformat_minor": 2,
 "cells": [
  {
   "cell_type": "code",
   "execution_count": 8,
   "metadata": {},
   "outputs": [],
   "source": [
    "import numpy as np \n",
    "import matplotlib.pyplot as plt \n",
    "import matplotlib.colors as mcolors\n",
    "import pandas as pd \n",
    "import random\n",
    "import math\n",
    "import itertools\n",
    "import time\n",
    "from pandas.api.types import is_string_dtype\n",
    "from pandas.api.types import is_numeric_dtype"
   ]
  },
  {
   "cell_type": "code",
   "execution_count": 9,
   "metadata": {},
   "outputs": [
    {
     "output_type": "execute_result",
     "data": {
      "text/plain": [
       "      _year         _state state_po  state_fips  state_cen  state_ic  \\\n",
       "0      1976        ARIZONA       AZ           4         86        61   \n",
       "1      1976        ARIZONA       AZ           4         86        61   \n",
       "2      1976        ARIZONA       AZ           4         86        61   \n",
       "3      1976        ARIZONA       AZ           4         86        61   \n",
       "4      1976        ARIZONA       AZ           4         86        61   \n",
       "...     ...            ...      ...         ...        ...       ...   \n",
       "3619   2020  WEST VIRGINIA       WV          54         55        56   \n",
       "3625   2021        GEORGIA       GA          13         58        44   \n",
       "3626   2021        GEORGIA       GA          13         58        44   \n",
       "3627   2021        GEORGIA       GA          13         58        44   \n",
       "3628   2021        GEORGIA       GA          13         58        44   \n",
       "\n",
       "         office   district   stage  special            candidate  \\\n",
       "0     US SENATE  statewide     gen    False          SAM STEIGER   \n",
       "1     US SENATE  statewide     gen    False  WM. MATHEWS FEIGHAN   \n",
       "2     US SENATE  statewide     gen    False     DENNIS DECONCINI   \n",
       "3     US SENATE  statewide     gen    False        ALLAN NORWITZ   \n",
       "4     US SENATE  statewide     gen    False            BOB FIELD   \n",
       "...         ...        ...     ...      ...                  ...   \n",
       "3619  US SENATE  statewide     gen    False          DAVID MORAN   \n",
       "3625  US SENATE  statewide  runoff     True       KELLY LOEFFLER   \n",
       "3626  US SENATE  statewide  runoff     True      RAPHAEL WARNOCK   \n",
       "3627  US SENATE  statewide  runoff    False      DAVID A. PERDUE   \n",
       "3628  US SENATE  statewide  runoff    False           JON OSSOFF   \n",
       "\n",
       "     party_detailed  writein  _mode  candidatevotes  totalvotes  unofficial  \\\n",
       "0        REPUBLICAN    False  total          321236      741210       False   \n",
       "1       INDEPENDENT    False  total            1565      741210       False   \n",
       "2          DEMOCRAT    False  total          400334      741210       False   \n",
       "3       LIBERTARIAN    False  total            7310      741210       False   \n",
       "4       INDEPENDENT    False  total           10765      741210       False   \n",
       "...             ...      ...    ...             ...         ...         ...   \n",
       "3619    LIBERTARIAN    False  total           21155      778918       False   \n",
       "3625     REPUBLICAN    False  total         2194848     4483294        True   \n",
       "3626       DEMOCRAT    False  total         2288446     4483294        True   \n",
       "3627     REPUBLICAN    False  total         2213979     4483241        True   \n",
       "3628       DEMOCRAT    False  total         2269262     4483241        True   \n",
       "\n",
       "      _version party_simplified  \n",
       "0     20210114       REPUBLICAN  \n",
       "1     20210114            OTHER  \n",
       "2     20210114         DEMOCRAT  \n",
       "3     20210114      LIBERTARIAN  \n",
       "4     20210114            OTHER  \n",
       "...        ...              ...  \n",
       "3619  20210114      LIBERTARIAN  \n",
       "3625  20210114       REPUBLICAN  \n",
       "3626  20210114         DEMOCRAT  \n",
       "3627  20210114       REPUBLICAN  \n",
       "3628  20210114         DEMOCRAT  \n",
       "\n",
       "[3030 rows x 19 columns]"
      ],
      "text/html": "<div>\n<style scoped>\n    .dataframe tbody tr th:only-of-type {\n        vertical-align: middle;\n    }\n\n    .dataframe tbody tr th {\n        vertical-align: top;\n    }\n\n    .dataframe thead th {\n        text-align: right;\n    }\n</style>\n<table border=\"1\" class=\"dataframe\">\n  <thead>\n    <tr style=\"text-align: right;\">\n      <th></th>\n      <th>_year</th>\n      <th>_state</th>\n      <th>state_po</th>\n      <th>state_fips</th>\n      <th>state_cen</th>\n      <th>state_ic</th>\n      <th>office</th>\n      <th>district</th>\n      <th>stage</th>\n      <th>special</th>\n      <th>candidate</th>\n      <th>party_detailed</th>\n      <th>writein</th>\n      <th>_mode</th>\n      <th>candidatevotes</th>\n      <th>totalvotes</th>\n      <th>unofficial</th>\n      <th>_version</th>\n      <th>party_simplified</th>\n    </tr>\n  </thead>\n  <tbody>\n    <tr>\n      <th>0</th>\n      <td>1976</td>\n      <td>ARIZONA</td>\n      <td>AZ</td>\n      <td>4</td>\n      <td>86</td>\n      <td>61</td>\n      <td>US SENATE</td>\n      <td>statewide</td>\n      <td>gen</td>\n      <td>False</td>\n      <td>SAM STEIGER</td>\n      <td>REPUBLICAN</td>\n      <td>False</td>\n      <td>total</td>\n      <td>321236</td>\n      <td>741210</td>\n      <td>False</td>\n      <td>20210114</td>\n      <td>REPUBLICAN</td>\n    </tr>\n    <tr>\n      <th>1</th>\n      <td>1976</td>\n      <td>ARIZONA</td>\n      <td>AZ</td>\n      <td>4</td>\n      <td>86</td>\n      <td>61</td>\n      <td>US SENATE</td>\n      <td>statewide</td>\n      <td>gen</td>\n      <td>False</td>\n      <td>WM. MATHEWS FEIGHAN</td>\n      <td>INDEPENDENT</td>\n      <td>False</td>\n      <td>total</td>\n      <td>1565</td>\n      <td>741210</td>\n      <td>False</td>\n      <td>20210114</td>\n      <td>OTHER</td>\n    </tr>\n    <tr>\n      <th>2</th>\n      <td>1976</td>\n      <td>ARIZONA</td>\n      <td>AZ</td>\n      <td>4</td>\n      <td>86</td>\n      <td>61</td>\n      <td>US SENATE</td>\n      <td>statewide</td>\n      <td>gen</td>\n      <td>False</td>\n      <td>DENNIS DECONCINI</td>\n      <td>DEMOCRAT</td>\n      <td>False</td>\n      <td>total</td>\n      <td>400334</td>\n      <td>741210</td>\n      <td>False</td>\n      <td>20210114</td>\n      <td>DEMOCRAT</td>\n    </tr>\n    <tr>\n      <th>3</th>\n      <td>1976</td>\n      <td>ARIZONA</td>\n      <td>AZ</td>\n      <td>4</td>\n      <td>86</td>\n      <td>61</td>\n      <td>US SENATE</td>\n      <td>statewide</td>\n      <td>gen</td>\n      <td>False</td>\n      <td>ALLAN NORWITZ</td>\n      <td>LIBERTARIAN</td>\n      <td>False</td>\n      <td>total</td>\n      <td>7310</td>\n      <td>741210</td>\n      <td>False</td>\n      <td>20210114</td>\n      <td>LIBERTARIAN</td>\n    </tr>\n    <tr>\n      <th>4</th>\n      <td>1976</td>\n      <td>ARIZONA</td>\n      <td>AZ</td>\n      <td>4</td>\n      <td>86</td>\n      <td>61</td>\n      <td>US SENATE</td>\n      <td>statewide</td>\n      <td>gen</td>\n      <td>False</td>\n      <td>BOB FIELD</td>\n      <td>INDEPENDENT</td>\n      <td>False</td>\n      <td>total</td>\n      <td>10765</td>\n      <td>741210</td>\n      <td>False</td>\n      <td>20210114</td>\n      <td>OTHER</td>\n    </tr>\n    <tr>\n      <th>...</th>\n      <td>...</td>\n      <td>...</td>\n      <td>...</td>\n      <td>...</td>\n      <td>...</td>\n      <td>...</td>\n      <td>...</td>\n      <td>...</td>\n      <td>...</td>\n      <td>...</td>\n      <td>...</td>\n      <td>...</td>\n      <td>...</td>\n      <td>...</td>\n      <td>...</td>\n      <td>...</td>\n      <td>...</td>\n      <td>...</td>\n      <td>...</td>\n    </tr>\n    <tr>\n      <th>3619</th>\n      <td>2020</td>\n      <td>WEST VIRGINIA</td>\n      <td>WV</td>\n      <td>54</td>\n      <td>55</td>\n      <td>56</td>\n      <td>US SENATE</td>\n      <td>statewide</td>\n      <td>gen</td>\n      <td>False</td>\n      <td>DAVID MORAN</td>\n      <td>LIBERTARIAN</td>\n      <td>False</td>\n      <td>total</td>\n      <td>21155</td>\n      <td>778918</td>\n      <td>False</td>\n      <td>20210114</td>\n      <td>LIBERTARIAN</td>\n    </tr>\n    <tr>\n      <th>3625</th>\n      <td>2021</td>\n      <td>GEORGIA</td>\n      <td>GA</td>\n      <td>13</td>\n      <td>58</td>\n      <td>44</td>\n      <td>US SENATE</td>\n      <td>statewide</td>\n      <td>runoff</td>\n      <td>True</td>\n      <td>KELLY LOEFFLER</td>\n      <td>REPUBLICAN</td>\n      <td>False</td>\n      <td>total</td>\n      <td>2194848</td>\n      <td>4483294</td>\n      <td>True</td>\n      <td>20210114</td>\n      <td>REPUBLICAN</td>\n    </tr>\n    <tr>\n      <th>3626</th>\n      <td>2021</td>\n      <td>GEORGIA</td>\n      <td>GA</td>\n      <td>13</td>\n      <td>58</td>\n      <td>44</td>\n      <td>US SENATE</td>\n      <td>statewide</td>\n      <td>runoff</td>\n      <td>True</td>\n      <td>RAPHAEL WARNOCK</td>\n      <td>DEMOCRAT</td>\n      <td>False</td>\n      <td>total</td>\n      <td>2288446</td>\n      <td>4483294</td>\n      <td>True</td>\n      <td>20210114</td>\n      <td>DEMOCRAT</td>\n    </tr>\n    <tr>\n      <th>3627</th>\n      <td>2021</td>\n      <td>GEORGIA</td>\n      <td>GA</td>\n      <td>13</td>\n      <td>58</td>\n      <td>44</td>\n      <td>US SENATE</td>\n      <td>statewide</td>\n      <td>runoff</td>\n      <td>False</td>\n      <td>DAVID A. PERDUE</td>\n      <td>REPUBLICAN</td>\n      <td>False</td>\n      <td>total</td>\n      <td>2213979</td>\n      <td>4483241</td>\n      <td>True</td>\n      <td>20210114</td>\n      <td>REPUBLICAN</td>\n    </tr>\n    <tr>\n      <th>3628</th>\n      <td>2021</td>\n      <td>GEORGIA</td>\n      <td>GA</td>\n      <td>13</td>\n      <td>58</td>\n      <td>44</td>\n      <td>US SENATE</td>\n      <td>statewide</td>\n      <td>runoff</td>\n      <td>False</td>\n      <td>JON OSSOFF</td>\n      <td>DEMOCRAT</td>\n      <td>False</td>\n      <td>total</td>\n      <td>2269262</td>\n      <td>4483241</td>\n      <td>True</td>\n      <td>20210114</td>\n      <td>DEMOCRAT</td>\n    </tr>\n  </tbody>\n</table>\n<p>3030 rows × 19 columns</p>\n</div>"
     },
     "metadata": {},
     "execution_count": 9
    }
   ],
   "source": [
    "df = pd.read_csv('senate_dataset.csv')\n",
    "df = df.dropna()\n",
    "df"
   ]
  },
  {
   "cell_type": "code",
   "execution_count": 10,
   "metadata": {
    "tags": []
   },
   "outputs": [
    {
     "output_type": "stream",
     "name": "stdout",
     "text": [
      "['AZ', 'CA', 'CT', 'DE', 'FL', 'HI', 'IN', 'ME', 'MD', 'MA', 'MI', 'MN', 'MS', 'MO', 'MT', 'NE', 'NV', 'NJ', 'NM', 'NY', 'ND', 'OH', 'PA', 'RI', 'TN', 'TX', 'UT', 'VT', 'VA', 'WA', 'WV', 'WI', 'WY', 'AL', 'AK', 'AR', 'CO', 'GA', 'ID', 'IL', 'IA', 'KS', 'KY', 'LA', 'NH', 'NC', 'OK', 'OR', 'SC', 'SD']\n[1976, 1978, 1980, 1982, 1984, 1986, 1988, 1990, 1992, 1994, 1996, 1998, 2000, 2002, 2004, 2006, 2008, 2010, 2012, 2014, 2016, 2018, 2020, 2021]\n"
     ]
    }
   ],
   "source": [
    "list_state = []\n",
    "list_year = []\n",
    "[list_state.append(state) for state in df.state_po if state  not in list_state]  \n",
    "[list_year.append(year) for year in df._year if year not in list_year]\n",
    "   \n",
    "print(list_state)\n",
    "print(list_year)"
   ]
  },
  {
   "cell_type": "code",
   "execution_count": 12,
   "metadata": {},
   "outputs": [],
   "source": [
    "def clean(state,year): \n",
    "    df = pd.read_csv('senate_dataset.csv')\n",
    "    df = df.loc[df.state_po == state]\n",
    "    df = df.loc[df._year == year]\n",
    "    max = df.candidatevotes.max()\n",
    "    df['Results'] = np.where(df['candidatevotes'] == max, 1, 0)\n",
    "    return df\n"
   ]
  },
  {
   "cell_type": "code",
   "execution_count": 13,
   "metadata": {},
   "outputs": [
    {
     "output_type": "execute_result",
     "data": {
      "text/plain": [
       "      _year        _state state_po  state_fips  state_cen  state_ic  \\\n",
       "0      1976       ARIZONA       AZ           4         86        61   \n",
       "1      1976       ARIZONA       AZ           4         86        61   \n",
       "2      1976       ARIZONA       AZ           4         86        61   \n",
       "3      1976       ARIZONA       AZ           4         86        61   \n",
       "4      1976       ARIZONA       AZ           4         86        61   \n",
       "...     ...           ...      ...         ...        ...       ...   \n",
       "3009   2014  SOUTH DAKOTA       SD          46         45        37   \n",
       "3248   2016  SOUTH DAKOTA       SD          46         45        37   \n",
       "3249   2016  SOUTH DAKOTA       SD          46         45        37   \n",
       "3595   2020  SOUTH DAKOTA       SD          46         45        37   \n",
       "3596   2020  SOUTH DAKOTA       SD          46         45        37   \n",
       "\n",
       "         office   district stage  special            candidate party_detailed  \\\n",
       "0     US SENATE  statewide   gen    False          SAM STEIGER     REPUBLICAN   \n",
       "1     US SENATE  statewide   gen    False  WM. MATHEWS FEIGHAN    INDEPENDENT   \n",
       "2     US SENATE  statewide   gen    False     DENNIS DECONCINI       DEMOCRAT   \n",
       "3     US SENATE  statewide   gen    False        ALLAN NORWITZ    LIBERTARIAN   \n",
       "4     US SENATE  statewide   gen    False            BOB FIELD    INDEPENDENT   \n",
       "...         ...        ...   ...      ...                  ...            ...   \n",
       "3009  US SENATE  statewide   gen    False         RICK WEILAND       DEMOCRAT   \n",
       "3248  US SENATE  statewide   gen    False        JOHN R. THUNE     REPUBLICAN   \n",
       "3249  US SENATE  statewide   gen    False         JAY WILLIAMS       DEMOCRAT   \n",
       "3595  US SENATE  statewide   gen    False          MIKE ROUNDS     REPUBLICAN   \n",
       "3596  US SENATE  statewide   gen    False           DAN AHLERS       DEMOCRAT   \n",
       "\n",
       "      writein  _mode  candidatevotes  totalvotes  unofficial  _version  \\\n",
       "0       False  total          321236      741210       False  20210114   \n",
       "1       False  total            1565      741210       False  20210114   \n",
       "2       False  total          400334      741210       False  20210114   \n",
       "3       False  total            7310      741210       False  20210114   \n",
       "4       False  total           10765      741210       False  20210114   \n",
       "...       ...    ...             ...         ...         ...       ...   \n",
       "3009    False  total           82456      279412       False  20210114   \n",
       "3248    False  total          265516      369656       False  20210114   \n",
       "3249    False  total          104140      369656       False  20210114   \n",
       "3595    False  total          276232      420219        True  20210114   \n",
       "3596    False  total          143987      420219        True  20210114   \n",
       "\n",
       "     party_simplified  Results  \n",
       "0          REPUBLICAN        0  \n",
       "1               OTHER        0  \n",
       "2            DEMOCRAT        1  \n",
       "3         LIBERTARIAN        0  \n",
       "4               OTHER        0  \n",
       "...               ...      ...  \n",
       "3009         DEMOCRAT        0  \n",
       "3248       REPUBLICAN        1  \n",
       "3249         DEMOCRAT        0  \n",
       "3595       REPUBLICAN        1  \n",
       "3596         DEMOCRAT        0  \n",
       "\n",
       "[3629 rows x 20 columns]"
      ],
      "text/html": "<div>\n<style scoped>\n    .dataframe tbody tr th:only-of-type {\n        vertical-align: middle;\n    }\n\n    .dataframe tbody tr th {\n        vertical-align: top;\n    }\n\n    .dataframe thead th {\n        text-align: right;\n    }\n</style>\n<table border=\"1\" class=\"dataframe\">\n  <thead>\n    <tr style=\"text-align: right;\">\n      <th></th>\n      <th>_year</th>\n      <th>_state</th>\n      <th>state_po</th>\n      <th>state_fips</th>\n      <th>state_cen</th>\n      <th>state_ic</th>\n      <th>office</th>\n      <th>district</th>\n      <th>stage</th>\n      <th>special</th>\n      <th>candidate</th>\n      <th>party_detailed</th>\n      <th>writein</th>\n      <th>_mode</th>\n      <th>candidatevotes</th>\n      <th>totalvotes</th>\n      <th>unofficial</th>\n      <th>_version</th>\n      <th>party_simplified</th>\n      <th>Results</th>\n    </tr>\n  </thead>\n  <tbody>\n    <tr>\n      <th>0</th>\n      <td>1976</td>\n      <td>ARIZONA</td>\n      <td>AZ</td>\n      <td>4</td>\n      <td>86</td>\n      <td>61</td>\n      <td>US SENATE</td>\n      <td>statewide</td>\n      <td>gen</td>\n      <td>False</td>\n      <td>SAM STEIGER</td>\n      <td>REPUBLICAN</td>\n      <td>False</td>\n      <td>total</td>\n      <td>321236</td>\n      <td>741210</td>\n      <td>False</td>\n      <td>20210114</td>\n      <td>REPUBLICAN</td>\n      <td>0</td>\n    </tr>\n    <tr>\n      <th>1</th>\n      <td>1976</td>\n      <td>ARIZONA</td>\n      <td>AZ</td>\n      <td>4</td>\n      <td>86</td>\n      <td>61</td>\n      <td>US SENATE</td>\n      <td>statewide</td>\n      <td>gen</td>\n      <td>False</td>\n      <td>WM. MATHEWS FEIGHAN</td>\n      <td>INDEPENDENT</td>\n      <td>False</td>\n      <td>total</td>\n      <td>1565</td>\n      <td>741210</td>\n      <td>False</td>\n      <td>20210114</td>\n      <td>OTHER</td>\n      <td>0</td>\n    </tr>\n    <tr>\n      <th>2</th>\n      <td>1976</td>\n      <td>ARIZONA</td>\n      <td>AZ</td>\n      <td>4</td>\n      <td>86</td>\n      <td>61</td>\n      <td>US SENATE</td>\n      <td>statewide</td>\n      <td>gen</td>\n      <td>False</td>\n      <td>DENNIS DECONCINI</td>\n      <td>DEMOCRAT</td>\n      <td>False</td>\n      <td>total</td>\n      <td>400334</td>\n      <td>741210</td>\n      <td>False</td>\n      <td>20210114</td>\n      <td>DEMOCRAT</td>\n      <td>1</td>\n    </tr>\n    <tr>\n      <th>3</th>\n      <td>1976</td>\n      <td>ARIZONA</td>\n      <td>AZ</td>\n      <td>4</td>\n      <td>86</td>\n      <td>61</td>\n      <td>US SENATE</td>\n      <td>statewide</td>\n      <td>gen</td>\n      <td>False</td>\n      <td>ALLAN NORWITZ</td>\n      <td>LIBERTARIAN</td>\n      <td>False</td>\n      <td>total</td>\n      <td>7310</td>\n      <td>741210</td>\n      <td>False</td>\n      <td>20210114</td>\n      <td>LIBERTARIAN</td>\n      <td>0</td>\n    </tr>\n    <tr>\n      <th>4</th>\n      <td>1976</td>\n      <td>ARIZONA</td>\n      <td>AZ</td>\n      <td>4</td>\n      <td>86</td>\n      <td>61</td>\n      <td>US SENATE</td>\n      <td>statewide</td>\n      <td>gen</td>\n      <td>False</td>\n      <td>BOB FIELD</td>\n      <td>INDEPENDENT</td>\n      <td>False</td>\n      <td>total</td>\n      <td>10765</td>\n      <td>741210</td>\n      <td>False</td>\n      <td>20210114</td>\n      <td>OTHER</td>\n      <td>0</td>\n    </tr>\n    <tr>\n      <th>...</th>\n      <td>...</td>\n      <td>...</td>\n      <td>...</td>\n      <td>...</td>\n      <td>...</td>\n      <td>...</td>\n      <td>...</td>\n      <td>...</td>\n      <td>...</td>\n      <td>...</td>\n      <td>...</td>\n      <td>...</td>\n      <td>...</td>\n      <td>...</td>\n      <td>...</td>\n      <td>...</td>\n      <td>...</td>\n      <td>...</td>\n      <td>...</td>\n      <td>...</td>\n    </tr>\n    <tr>\n      <th>3009</th>\n      <td>2014</td>\n      <td>SOUTH DAKOTA</td>\n      <td>SD</td>\n      <td>46</td>\n      <td>45</td>\n      <td>37</td>\n      <td>US SENATE</td>\n      <td>statewide</td>\n      <td>gen</td>\n      <td>False</td>\n      <td>RICK WEILAND</td>\n      <td>DEMOCRAT</td>\n      <td>False</td>\n      <td>total</td>\n      <td>82456</td>\n      <td>279412</td>\n      <td>False</td>\n      <td>20210114</td>\n      <td>DEMOCRAT</td>\n      <td>0</td>\n    </tr>\n    <tr>\n      <th>3248</th>\n      <td>2016</td>\n      <td>SOUTH DAKOTA</td>\n      <td>SD</td>\n      <td>46</td>\n      <td>45</td>\n      <td>37</td>\n      <td>US SENATE</td>\n      <td>statewide</td>\n      <td>gen</td>\n      <td>False</td>\n      <td>JOHN R. THUNE</td>\n      <td>REPUBLICAN</td>\n      <td>False</td>\n      <td>total</td>\n      <td>265516</td>\n      <td>369656</td>\n      <td>False</td>\n      <td>20210114</td>\n      <td>REPUBLICAN</td>\n      <td>1</td>\n    </tr>\n    <tr>\n      <th>3249</th>\n      <td>2016</td>\n      <td>SOUTH DAKOTA</td>\n      <td>SD</td>\n      <td>46</td>\n      <td>45</td>\n      <td>37</td>\n      <td>US SENATE</td>\n      <td>statewide</td>\n      <td>gen</td>\n      <td>False</td>\n      <td>JAY WILLIAMS</td>\n      <td>DEMOCRAT</td>\n      <td>False</td>\n      <td>total</td>\n      <td>104140</td>\n      <td>369656</td>\n      <td>False</td>\n      <td>20210114</td>\n      <td>DEMOCRAT</td>\n      <td>0</td>\n    </tr>\n    <tr>\n      <th>3595</th>\n      <td>2020</td>\n      <td>SOUTH DAKOTA</td>\n      <td>SD</td>\n      <td>46</td>\n      <td>45</td>\n      <td>37</td>\n      <td>US SENATE</td>\n      <td>statewide</td>\n      <td>gen</td>\n      <td>False</td>\n      <td>MIKE ROUNDS</td>\n      <td>REPUBLICAN</td>\n      <td>False</td>\n      <td>total</td>\n      <td>276232</td>\n      <td>420219</td>\n      <td>True</td>\n      <td>20210114</td>\n      <td>REPUBLICAN</td>\n      <td>1</td>\n    </tr>\n    <tr>\n      <th>3596</th>\n      <td>2020</td>\n      <td>SOUTH DAKOTA</td>\n      <td>SD</td>\n      <td>46</td>\n      <td>45</td>\n      <td>37</td>\n      <td>US SENATE</td>\n      <td>statewide</td>\n      <td>gen</td>\n      <td>False</td>\n      <td>DAN AHLERS</td>\n      <td>DEMOCRAT</td>\n      <td>False</td>\n      <td>total</td>\n      <td>143987</td>\n      <td>420219</td>\n      <td>True</td>\n      <td>20210114</td>\n      <td>DEMOCRAT</td>\n      <td>0</td>\n    </tr>\n  </tbody>\n</table>\n<p>3629 rows × 20 columns</p>\n</div>"
     },
     "metadata": {},
     "execution_count": 13
    }
   ],
   "source": [
    "appended_data = []\n",
    "#for s, y in zip(list_state, list_year):\n",
    "for s, y in itertools.product(list_state,list_year):\n",
    "    data = clean(s, y)\n",
    "    appended_data.append(data)\n",
    "# see pd.concat documentation for more info\n",
    "appended_data = pd.concat(appended_data)\n",
    "# write DataFrame to an excel sheet \n",
    "appended_data.to_csv('senate.csv')\n",
    "appended_data"
   ]
  },
  {
   "cell_type": "code",
   "execution_count": 14,
   "metadata": {},
   "outputs": [
    {
     "output_type": "execute_result",
     "data": {
      "text/plain": [
       "   _year      _state state_po  state_fips  state_cen  state_ic     office  \\\n",
       "5   1976  CALIFORNIA       CA           6         93        71  US SENATE   \n",
       "6   1976  CALIFORNIA       CA           6         93        71  US SENATE   \n",
       "7   1976  CALIFORNIA       CA           6         93        71  US SENATE   \n",
       "8   1976  CALIFORNIA       CA           6         93        71  US SENATE   \n",
       "9   1976  CALIFORNIA       CA           6         93        71  US SENATE   \n",
       "\n",
       "    district stage  special             candidate        party_detailed  \\\n",
       "5  statewide   gen    False            JACK MCCOY  AMERICAN INDEPENDENT   \n",
       "6  statewide   gen    False  S. I. (SAM) HAYAKAWA            REPUBLICAN   \n",
       "7  statewide   gen    False        JOHN V. TUNNEY              DEMOCRAT   \n",
       "8  statewide   gen    False            OMARI MUSA           INDEPENDENT   \n",
       "9  statewide   gen    False            DAVID WALD     PEACE AND FREEDOM   \n",
       "\n",
       "   writein  _mode  candidatevotes  totalvotes  unofficial  _version  \\\n",
       "5    False  total           82739     7470586       False  20210114   \n",
       "6    False  total         3748973     7470586       False  20210114   \n",
       "7    False  total         3502862     7470586       False  20210114   \n",
       "8    False  total           31629     7470586       False  20210114   \n",
       "9    False  total          104383     7470586       False  20210114   \n",
       "\n",
       "  party_simplified  Results  \n",
       "5            OTHER        0  \n",
       "6       REPUBLICAN        1  \n",
       "7         DEMOCRAT        0  \n",
       "8            OTHER        0  \n",
       "9            OTHER        0  "
      ],
      "text/html": "<div>\n<style scoped>\n    .dataframe tbody tr th:only-of-type {\n        vertical-align: middle;\n    }\n\n    .dataframe tbody tr th {\n        vertical-align: top;\n    }\n\n    .dataframe thead th {\n        text-align: right;\n    }\n</style>\n<table border=\"1\" class=\"dataframe\">\n  <thead>\n    <tr style=\"text-align: right;\">\n      <th></th>\n      <th>_year</th>\n      <th>_state</th>\n      <th>state_po</th>\n      <th>state_fips</th>\n      <th>state_cen</th>\n      <th>state_ic</th>\n      <th>office</th>\n      <th>district</th>\n      <th>stage</th>\n      <th>special</th>\n      <th>candidate</th>\n      <th>party_detailed</th>\n      <th>writein</th>\n      <th>_mode</th>\n      <th>candidatevotes</th>\n      <th>totalvotes</th>\n      <th>unofficial</th>\n      <th>_version</th>\n      <th>party_simplified</th>\n      <th>Results</th>\n    </tr>\n  </thead>\n  <tbody>\n    <tr>\n      <th>5</th>\n      <td>1976</td>\n      <td>CALIFORNIA</td>\n      <td>CA</td>\n      <td>6</td>\n      <td>93</td>\n      <td>71</td>\n      <td>US SENATE</td>\n      <td>statewide</td>\n      <td>gen</td>\n      <td>False</td>\n      <td>JACK MCCOY</td>\n      <td>AMERICAN INDEPENDENT</td>\n      <td>False</td>\n      <td>total</td>\n      <td>82739</td>\n      <td>7470586</td>\n      <td>False</td>\n      <td>20210114</td>\n      <td>OTHER</td>\n      <td>0</td>\n    </tr>\n    <tr>\n      <th>6</th>\n      <td>1976</td>\n      <td>CALIFORNIA</td>\n      <td>CA</td>\n      <td>6</td>\n      <td>93</td>\n      <td>71</td>\n      <td>US SENATE</td>\n      <td>statewide</td>\n      <td>gen</td>\n      <td>False</td>\n      <td>S. I. (SAM) HAYAKAWA</td>\n      <td>REPUBLICAN</td>\n      <td>False</td>\n      <td>total</td>\n      <td>3748973</td>\n      <td>7470586</td>\n      <td>False</td>\n      <td>20210114</td>\n      <td>REPUBLICAN</td>\n      <td>1</td>\n    </tr>\n    <tr>\n      <th>7</th>\n      <td>1976</td>\n      <td>CALIFORNIA</td>\n      <td>CA</td>\n      <td>6</td>\n      <td>93</td>\n      <td>71</td>\n      <td>US SENATE</td>\n      <td>statewide</td>\n      <td>gen</td>\n      <td>False</td>\n      <td>JOHN V. TUNNEY</td>\n      <td>DEMOCRAT</td>\n      <td>False</td>\n      <td>total</td>\n      <td>3502862</td>\n      <td>7470586</td>\n      <td>False</td>\n      <td>20210114</td>\n      <td>DEMOCRAT</td>\n      <td>0</td>\n    </tr>\n    <tr>\n      <th>8</th>\n      <td>1976</td>\n      <td>CALIFORNIA</td>\n      <td>CA</td>\n      <td>6</td>\n      <td>93</td>\n      <td>71</td>\n      <td>US SENATE</td>\n      <td>statewide</td>\n      <td>gen</td>\n      <td>False</td>\n      <td>OMARI MUSA</td>\n      <td>INDEPENDENT</td>\n      <td>False</td>\n      <td>total</td>\n      <td>31629</td>\n      <td>7470586</td>\n      <td>False</td>\n      <td>20210114</td>\n      <td>OTHER</td>\n      <td>0</td>\n    </tr>\n    <tr>\n      <th>9</th>\n      <td>1976</td>\n      <td>CALIFORNIA</td>\n      <td>CA</td>\n      <td>6</td>\n      <td>93</td>\n      <td>71</td>\n      <td>US SENATE</td>\n      <td>statewide</td>\n      <td>gen</td>\n      <td>False</td>\n      <td>DAVID WALD</td>\n      <td>PEACE AND FREEDOM</td>\n      <td>False</td>\n      <td>total</td>\n      <td>104383</td>\n      <td>7470586</td>\n      <td>False</td>\n      <td>20210114</td>\n      <td>OTHER</td>\n      <td>0</td>\n    </tr>\n  </tbody>\n</table>\n</div>"
     },
     "metadata": {},
     "execution_count": 14
    }
   ],
   "source": [
    "appended_data = []\n",
    "data = clean(\"CA\", 1976)\n",
    "appended_data.append(data)\n",
    "# see pd.concat documentation for more info\n",
    "appended_data = pd.concat(appended_data)\n",
    "# write DataFrame to an excel sheet \n",
    "appended_data.to_csv('Senate_CA.csv')\n",
    "appended_data\n"
   ]
  },
  {
   "cell_type": "code",
   "execution_count": null,
   "metadata": {},
   "outputs": [],
   "source": []
  }
 ]
}