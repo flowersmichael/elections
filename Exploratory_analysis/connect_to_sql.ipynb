{
 "metadata": {
  "language_info": {
   "codemirror_mode": {
    "name": "ipython",
    "version": 3
   },
   "file_extension": ".py",
   "mimetype": "text/x-python",
   "name": "python",
   "nbconvert_exporter": "python",
   "pygments_lexer": "ipython3",
   "version": "3.7.9"
  },
  "orig_nbformat": 2,
  "kernelspec": {
   "name": "python379jvsc74a57bd086788b88977cb793ff7959ddc9fc7a2d79c7f0e4f7b79c52c18afcedbe69e051",
   "display_name": "Python 3.7.9 64-bit ('PythonData': conda)"
  },
  "metadata": {
   "interpreter": {
    "hash": "86788b88977cb793ff7959ddc9fc7a2d79c7f0e4f7b79c52c18afcedbe69e051"
   }
  }
 },
 "nbformat": 4,
 "nbformat_minor": 2,
 "cells": [
  {
   "cell_type": "code",
   "execution_count": 49,
   "metadata": {},
   "outputs": [
    {
     "output_type": "execute_result",
     "data": {
      "text/plain": [
       "      index  Unnamed: 0  year        _state state_code  state_fips  state_cen  \\\n",
       "0         0           0  1976       ARIZONA         AZ           4         86   \n",
       "1         1           1  1976       ARIZONA         AZ           4         86   \n",
       "2         2           2  1976       ARIZONA         AZ           4         86   \n",
       "3         3           3  1976       ARIZONA         AZ           4         86   \n",
       "4         4           4  1976       ARIZONA         AZ           4         86   \n",
       "...     ...         ...   ...           ...        ...         ...        ...   \n",
       "3624   3624        3009  2014  SOUTH DAKOTA         SD          46         45   \n",
       "3625   3625        3248  2016  SOUTH DAKOTA         SD          46         45   \n",
       "3626   3626        3249  2016  SOUTH DAKOTA         SD          46         45   \n",
       "3627   3627        3595  2020  SOUTH DAKOTA         SD          46         45   \n",
       "3628   3628        3596  2020  SOUTH DAKOTA         SD          46         45   \n",
       "\n",
       "      state_ic     office   district  ...            candidate  \\\n",
       "0           61  US SENATE  statewide  ...          SAM STEIGER   \n",
       "1           61  US SENATE  statewide  ...  WM. MATHEWS FEIGHAN   \n",
       "2           61  US SENATE  statewide  ...     DENNIS DECONCINI   \n",
       "3           61  US SENATE  statewide  ...        ALLAN NORWITZ   \n",
       "4           61  US SENATE  statewide  ...            BOB FIELD   \n",
       "...        ...        ...        ...  ...                  ...   \n",
       "3624        37  US SENATE  statewide  ...         RICK WEILAND   \n",
       "3625        37  US SENATE  statewide  ...        JOHN R. THUNE   \n",
       "3626        37  US SENATE  statewide  ...         JAY WILLIAMS   \n",
       "3627        37  US SENATE  statewide  ...          MIKE ROUNDS   \n",
       "3628        37  US SENATE  statewide  ...           DAN AHLERS   \n",
       "\n",
       "      party_detailed writein  _mode  candidatevotes totalvotes  unofficial  \\\n",
       "0         REPUBLICAN   False  total          321236     741210       False   \n",
       "1        INDEPENDENT   False  total            1565     741210       False   \n",
       "2           DEMOCRAT   False  total          400334     741210       False   \n",
       "3        LIBERTARIAN   False  total            7310     741210       False   \n",
       "4        INDEPENDENT   False  total           10765     741210       False   \n",
       "...              ...     ...    ...             ...        ...         ...   \n",
       "3624        DEMOCRAT   False  total           82456     279412       False   \n",
       "3625      REPUBLICAN   False  total          265516     369656       False   \n",
       "3626        DEMOCRAT   False  total          104140     369656       False   \n",
       "3627      REPUBLICAN   False  total          276232     420219        True   \n",
       "3628        DEMOCRAT   False  total          143987     420219        True   \n",
       "\n",
       "      _version  party_simplified  Results  \n",
       "0     20210114        REPUBLICAN        0  \n",
       "1     20210114             OTHER        0  \n",
       "2     20210114          DEMOCRAT        1  \n",
       "3     20210114       LIBERTARIAN        0  \n",
       "4     20210114             OTHER        0  \n",
       "...        ...               ...      ...  \n",
       "3624  20210114          DEMOCRAT        0  \n",
       "3625  20210114        REPUBLICAN        1  \n",
       "3626  20210114          DEMOCRAT        0  \n",
       "3627  20210114        REPUBLICAN        1  \n",
       "3628  20210114          DEMOCRAT        0  \n",
       "\n",
       "[3629 rows x 22 columns]"
      ],
      "text/html": "<div>\n<style scoped>\n    .dataframe tbody tr th:only-of-type {\n        vertical-align: middle;\n    }\n\n    .dataframe tbody tr th {\n        vertical-align: top;\n    }\n\n    .dataframe thead th {\n        text-align: right;\n    }\n</style>\n<table border=\"1\" class=\"dataframe\">\n  <thead>\n    <tr style=\"text-align: right;\">\n      <th></th>\n      <th>index</th>\n      <th>Unnamed: 0</th>\n      <th>year</th>\n      <th>_state</th>\n      <th>state_code</th>\n      <th>state_fips</th>\n      <th>state_cen</th>\n      <th>state_ic</th>\n      <th>office</th>\n      <th>district</th>\n      <th>...</th>\n      <th>candidate</th>\n      <th>party_detailed</th>\n      <th>writein</th>\n      <th>_mode</th>\n      <th>candidatevotes</th>\n      <th>totalvotes</th>\n      <th>unofficial</th>\n      <th>_version</th>\n      <th>party_simplified</th>\n      <th>Results</th>\n    </tr>\n  </thead>\n  <tbody>\n    <tr>\n      <th>0</th>\n      <td>0</td>\n      <td>0</td>\n      <td>1976</td>\n      <td>ARIZONA</td>\n      <td>AZ</td>\n      <td>4</td>\n      <td>86</td>\n      <td>61</td>\n      <td>US SENATE</td>\n      <td>statewide</td>\n      <td>...</td>\n      <td>SAM STEIGER</td>\n      <td>REPUBLICAN</td>\n      <td>False</td>\n      <td>total</td>\n      <td>321236</td>\n      <td>741210</td>\n      <td>False</td>\n      <td>20210114</td>\n      <td>REPUBLICAN</td>\n      <td>0</td>\n    </tr>\n    <tr>\n      <th>1</th>\n      <td>1</td>\n      <td>1</td>\n      <td>1976</td>\n      <td>ARIZONA</td>\n      <td>AZ</td>\n      <td>4</td>\n      <td>86</td>\n      <td>61</td>\n      <td>US SENATE</td>\n      <td>statewide</td>\n      <td>...</td>\n      <td>WM. MATHEWS FEIGHAN</td>\n      <td>INDEPENDENT</td>\n      <td>False</td>\n      <td>total</td>\n      <td>1565</td>\n      <td>741210</td>\n      <td>False</td>\n      <td>20210114</td>\n      <td>OTHER</td>\n      <td>0</td>\n    </tr>\n    <tr>\n      <th>2</th>\n      <td>2</td>\n      <td>2</td>\n      <td>1976</td>\n      <td>ARIZONA</td>\n      <td>AZ</td>\n      <td>4</td>\n      <td>86</td>\n      <td>61</td>\n      <td>US SENATE</td>\n      <td>statewide</td>\n      <td>...</td>\n      <td>DENNIS DECONCINI</td>\n      <td>DEMOCRAT</td>\n      <td>False</td>\n      <td>total</td>\n      <td>400334</td>\n      <td>741210</td>\n      <td>False</td>\n      <td>20210114</td>\n      <td>DEMOCRAT</td>\n      <td>1</td>\n    </tr>\n    <tr>\n      <th>3</th>\n      <td>3</td>\n      <td>3</td>\n      <td>1976</td>\n      <td>ARIZONA</td>\n      <td>AZ</td>\n      <td>4</td>\n      <td>86</td>\n      <td>61</td>\n      <td>US SENATE</td>\n      <td>statewide</td>\n      <td>...</td>\n      <td>ALLAN NORWITZ</td>\n      <td>LIBERTARIAN</td>\n      <td>False</td>\n      <td>total</td>\n      <td>7310</td>\n      <td>741210</td>\n      <td>False</td>\n      <td>20210114</td>\n      <td>LIBERTARIAN</td>\n      <td>0</td>\n    </tr>\n    <tr>\n      <th>4</th>\n      <td>4</td>\n      <td>4</td>\n      <td>1976</td>\n      <td>ARIZONA</td>\n      <td>AZ</td>\n      <td>4</td>\n      <td>86</td>\n      <td>61</td>\n      <td>US SENATE</td>\n      <td>statewide</td>\n      <td>...</td>\n      <td>BOB FIELD</td>\n      <td>INDEPENDENT</td>\n      <td>False</td>\n      <td>total</td>\n      <td>10765</td>\n      <td>741210</td>\n      <td>False</td>\n      <td>20210114</td>\n      <td>OTHER</td>\n      <td>0</td>\n    </tr>\n    <tr>\n      <th>...</th>\n      <td>...</td>\n      <td>...</td>\n      <td>...</td>\n      <td>...</td>\n      <td>...</td>\n      <td>...</td>\n      <td>...</td>\n      <td>...</td>\n      <td>...</td>\n      <td>...</td>\n      <td>...</td>\n      <td>...</td>\n      <td>...</td>\n      <td>...</td>\n      <td>...</td>\n      <td>...</td>\n      <td>...</td>\n      <td>...</td>\n      <td>...</td>\n      <td>...</td>\n      <td>...</td>\n    </tr>\n    <tr>\n      <th>3624</th>\n      <td>3624</td>\n      <td>3009</td>\n      <td>2014</td>\n      <td>SOUTH DAKOTA</td>\n      <td>SD</td>\n      <td>46</td>\n      <td>45</td>\n      <td>37</td>\n      <td>US SENATE</td>\n      <td>statewide</td>\n      <td>...</td>\n      <td>RICK WEILAND</td>\n      <td>DEMOCRAT</td>\n      <td>False</td>\n      <td>total</td>\n      <td>82456</td>\n      <td>279412</td>\n      <td>False</td>\n      <td>20210114</td>\n      <td>DEMOCRAT</td>\n      <td>0</td>\n    </tr>\n    <tr>\n      <th>3625</th>\n      <td>3625</td>\n      <td>3248</td>\n      <td>2016</td>\n      <td>SOUTH DAKOTA</td>\n      <td>SD</td>\n      <td>46</td>\n      <td>45</td>\n      <td>37</td>\n      <td>US SENATE</td>\n      <td>statewide</td>\n      <td>...</td>\n      <td>JOHN R. THUNE</td>\n      <td>REPUBLICAN</td>\n      <td>False</td>\n      <td>total</td>\n      <td>265516</td>\n      <td>369656</td>\n      <td>False</td>\n      <td>20210114</td>\n      <td>REPUBLICAN</td>\n      <td>1</td>\n    </tr>\n    <tr>\n      <th>3626</th>\n      <td>3626</td>\n      <td>3249</td>\n      <td>2016</td>\n      <td>SOUTH DAKOTA</td>\n      <td>SD</td>\n      <td>46</td>\n      <td>45</td>\n      <td>37</td>\n      <td>US SENATE</td>\n      <td>statewide</td>\n      <td>...</td>\n      <td>JAY WILLIAMS</td>\n      <td>DEMOCRAT</td>\n      <td>False</td>\n      <td>total</td>\n      <td>104140</td>\n      <td>369656</td>\n      <td>False</td>\n      <td>20210114</td>\n      <td>DEMOCRAT</td>\n      <td>0</td>\n    </tr>\n    <tr>\n      <th>3627</th>\n      <td>3627</td>\n      <td>3595</td>\n      <td>2020</td>\n      <td>SOUTH DAKOTA</td>\n      <td>SD</td>\n      <td>46</td>\n      <td>45</td>\n      <td>37</td>\n      <td>US SENATE</td>\n      <td>statewide</td>\n      <td>...</td>\n      <td>MIKE ROUNDS</td>\n      <td>REPUBLICAN</td>\n      <td>False</td>\n      <td>total</td>\n      <td>276232</td>\n      <td>420219</td>\n      <td>True</td>\n      <td>20210114</td>\n      <td>REPUBLICAN</td>\n      <td>1</td>\n    </tr>\n    <tr>\n      <th>3628</th>\n      <td>3628</td>\n      <td>3596</td>\n      <td>2020</td>\n      <td>SOUTH DAKOTA</td>\n      <td>SD</td>\n      <td>46</td>\n      <td>45</td>\n      <td>37</td>\n      <td>US SENATE</td>\n      <td>statewide</td>\n      <td>...</td>\n      <td>DAN AHLERS</td>\n      <td>DEMOCRAT</td>\n      <td>False</td>\n      <td>total</td>\n      <td>143987</td>\n      <td>420219</td>\n      <td>True</td>\n      <td>20210114</td>\n      <td>DEMOCRAT</td>\n      <td>0</td>\n    </tr>\n  </tbody>\n</table>\n<p>3629 rows × 22 columns</p>\n</div>"
     },
     "metadata": {},
     "execution_count": 49
    }
   ],
   "source": [
    "import pandas as pd\n",
    "import psycopg2 as pg\n",
    "\n",
    "engine = pg.connect(\"dbname='Final_Project' user='postgres' host='127.0.0.1' port='5433' password='Henry8083'\")\n",
    "df = pd.read_sql('select * from senate_dataset', con=engine)\n",
    "df"
   ]
  },
  {
   "cell_type": "code",
   "execution_count": 58,
   "metadata": {},
   "outputs": [
    {
     "output_type": "execute_result",
     "data": {
      "text/plain": [
       "         index  Unnamed: 0  report_year  image_number  file_number  \\\n",
       "0            0           0         2020  2.020100e+17    1444283.0   \n",
       "1            1           1         2020  2.020100e+17    1445692.0   \n",
       "2            2           2         2020  2.020100e+17    1466866.0   \n",
       "3            3           3         2020  2.020100e+17    1466866.0   \n",
       "4            4           4         2020  2.020110e+17    1470736.0   \n",
       "...        ...         ...          ...           ...          ...   \n",
       "492849  492843      413226         2008  2.803983e+10     362726.0   \n",
       "492850  492844      413227         2008  2.899238e+10     366604.0   \n",
       "492851  492845      413228         2008  2.803986e+10     387136.0   \n",
       "492852  492846      413229         2008  2.803986e+10     387136.0   \n",
       "492853  492847      413230         2008  2.803986e+10     387136.0   \n",
       "\n",
       "                       payee_name     expenditure_date dissemination_date  \\\n",
       "0              Good Works Matters             5-Oct-20               None   \n",
       "1                    A/B Partners             8-Sep-20           8-Oct-20   \n",
       "2               BERLIN ROSEN, LTD            15-Oct-20          25-Oct-20   \n",
       "3              CENTURY DIRECT LLC            19-Oct-20          25-Oct-20   \n",
       "4                 AB PARTNERS PBC            31-Oct-20          31-Oct-20   \n",
       "...                           ...                  ...                ...   \n",
       "492849  STEEN OUTDOOR ADVERTISING  2008-09-09 00:00:00               None   \n",
       "492850            CLUB FOR GROWTH  2008-10-09 00:00:00               None   \n",
       "492851       NUCLEAR PICNIC, INC.  2008-10-13 00:00:00               None   \n",
       "492852    SEE3 COMMUNICATIONS LLC  2008-10-13 00:00:00               None   \n",
       "492853           O'CONNELL, BRIAN  2008-10-13 00:00:00               None   \n",
       "\n",
       "        expenditure_amount                   category_code_full  ...  \\\n",
       "0                 35000.00  Phone bankers for federal candidate  ...   \n",
       "1                 85262.15                          Digital ads  ...   \n",
       "2                 80000.00           Projected phone bank costs  ...   \n",
       "3                  3742.00                               Mailer  ...   \n",
       "4                 48093.24                          Digital ads  ...   \n",
       "...                    ...                                  ...  ...   \n",
       "492849            10964.00                Advertising Expenses   ...   \n",
       "492850               72.20                Advertising Expenses   ...   \n",
       "492851             1500.00                                 None  ...   \n",
       "492852            15000.00                                 None  ...   \n",
       "492853              900.00                                 None  ...   \n",
       "\n",
       "       filing_form       link_id payee_prefix payee_suffix is_notice  \\\n",
       "0             None           NaN         None         None      None   \n",
       "1             None           NaN         None         None      None   \n",
       "2             None           NaN         None         None      None   \n",
       "3             None           NaN         None         None      None   \n",
       "4             None           NaN         None         None      None   \n",
       "...            ...           ...          ...          ...       ...   \n",
       "492849          F5  1.091120e+18         None         None         t   \n",
       "492850          F5  4.101020e+18         None         None         t   \n",
       "492851          F5  1.101520e+18         None         None         t   \n",
       "492852          F5  1.101520e+18         None         None         t   \n",
       "492853          F5  1.101520e+18         None         None         t   \n",
       "\n",
       "       memo_text filer_prefix filer_suffix schedule_type  \\\n",
       "0           None         None         None          None   \n",
       "1           None         None         None          None   \n",
       "2           None         None         None          None   \n",
       "3           None         None         None          None   \n",
       "4           None         None         None          None   \n",
       "...          ...          ...          ...           ...   \n",
       "492849      None         None         None        SE-F57   \n",
       "492850      None         None         None        SE-F57   \n",
       "492851      None         None         None        SE-F57   \n",
       "492852      None         None         None        SE-F57   \n",
       "492853      None         None         None        SE-F57   \n",
       "\n",
       "                                                  pdf_url  \n",
       "0                                                    None  \n",
       "1                                                    None  \n",
       "2                                                    None  \n",
       "3                                                    None  \n",
       "4                                                    None  \n",
       "...                                                   ...  \n",
       "492849  http://docquery.fec.gov/cgi-bin/fecimg/?280398...  \n",
       "492850  http://docquery.fec.gov/cgi-bin/fecimg/?289923...  \n",
       "492851  http://docquery.fec.gov/cgi-bin/fecimg/?280398...  \n",
       "492852  http://docquery.fec.gov/cgi-bin/fecimg/?280398...  \n",
       "492853  http://docquery.fec.gov/cgi-bin/fecimg/?280398...  \n",
       "\n",
       "[492854 rows x 73 columns]"
      ],
      "text/html": "<div>\n<style scoped>\n    .dataframe tbody tr th:only-of-type {\n        vertical-align: middle;\n    }\n\n    .dataframe tbody tr th {\n        vertical-align: top;\n    }\n\n    .dataframe thead th {\n        text-align: right;\n    }\n</style>\n<table border=\"1\" class=\"dataframe\">\n  <thead>\n    <tr style=\"text-align: right;\">\n      <th></th>\n      <th>index</th>\n      <th>Unnamed: 0</th>\n      <th>report_year</th>\n      <th>image_number</th>\n      <th>file_number</th>\n      <th>payee_name</th>\n      <th>expenditure_date</th>\n      <th>dissemination_date</th>\n      <th>expenditure_amount</th>\n      <th>category_code_full</th>\n      <th>...</th>\n      <th>filing_form</th>\n      <th>link_id</th>\n      <th>payee_prefix</th>\n      <th>payee_suffix</th>\n      <th>is_notice</th>\n      <th>memo_text</th>\n      <th>filer_prefix</th>\n      <th>filer_suffix</th>\n      <th>schedule_type</th>\n      <th>pdf_url</th>\n    </tr>\n  </thead>\n  <tbody>\n    <tr>\n      <th>0</th>\n      <td>0</td>\n      <td>0</td>\n      <td>2020</td>\n      <td>2.020100e+17</td>\n      <td>1444283.0</td>\n      <td>Good Works Matters</td>\n      <td>5-Oct-20</td>\n      <td>None</td>\n      <td>35000.00</td>\n      <td>Phone bankers for federal candidate</td>\n      <td>...</td>\n      <td>None</td>\n      <td>NaN</td>\n      <td>None</td>\n      <td>None</td>\n      <td>None</td>\n      <td>None</td>\n      <td>None</td>\n      <td>None</td>\n      <td>None</td>\n      <td>None</td>\n    </tr>\n    <tr>\n      <th>1</th>\n      <td>1</td>\n      <td>1</td>\n      <td>2020</td>\n      <td>2.020100e+17</td>\n      <td>1445692.0</td>\n      <td>A/B Partners</td>\n      <td>8-Sep-20</td>\n      <td>8-Oct-20</td>\n      <td>85262.15</td>\n      <td>Digital ads</td>\n      <td>...</td>\n      <td>None</td>\n      <td>NaN</td>\n      <td>None</td>\n      <td>None</td>\n      <td>None</td>\n      <td>None</td>\n      <td>None</td>\n      <td>None</td>\n      <td>None</td>\n      <td>None</td>\n    </tr>\n    <tr>\n      <th>2</th>\n      <td>2</td>\n      <td>2</td>\n      <td>2020</td>\n      <td>2.020100e+17</td>\n      <td>1466866.0</td>\n      <td>BERLIN ROSEN, LTD</td>\n      <td>15-Oct-20</td>\n      <td>25-Oct-20</td>\n      <td>80000.00</td>\n      <td>Projected phone bank costs</td>\n      <td>...</td>\n      <td>None</td>\n      <td>NaN</td>\n      <td>None</td>\n      <td>None</td>\n      <td>None</td>\n      <td>None</td>\n      <td>None</td>\n      <td>None</td>\n      <td>None</td>\n      <td>None</td>\n    </tr>\n    <tr>\n      <th>3</th>\n      <td>3</td>\n      <td>3</td>\n      <td>2020</td>\n      <td>2.020100e+17</td>\n      <td>1466866.0</td>\n      <td>CENTURY DIRECT LLC</td>\n      <td>19-Oct-20</td>\n      <td>25-Oct-20</td>\n      <td>3742.00</td>\n      <td>Mailer</td>\n      <td>...</td>\n      <td>None</td>\n      <td>NaN</td>\n      <td>None</td>\n      <td>None</td>\n      <td>None</td>\n      <td>None</td>\n      <td>None</td>\n      <td>None</td>\n      <td>None</td>\n      <td>None</td>\n    </tr>\n    <tr>\n      <th>4</th>\n      <td>4</td>\n      <td>4</td>\n      <td>2020</td>\n      <td>2.020110e+17</td>\n      <td>1470736.0</td>\n      <td>AB PARTNERS PBC</td>\n      <td>31-Oct-20</td>\n      <td>31-Oct-20</td>\n      <td>48093.24</td>\n      <td>Digital ads</td>\n      <td>...</td>\n      <td>None</td>\n      <td>NaN</td>\n      <td>None</td>\n      <td>None</td>\n      <td>None</td>\n      <td>None</td>\n      <td>None</td>\n      <td>None</td>\n      <td>None</td>\n      <td>None</td>\n    </tr>\n    <tr>\n      <th>...</th>\n      <td>...</td>\n      <td>...</td>\n      <td>...</td>\n      <td>...</td>\n      <td>...</td>\n      <td>...</td>\n      <td>...</td>\n      <td>...</td>\n      <td>...</td>\n      <td>...</td>\n      <td>...</td>\n      <td>...</td>\n      <td>...</td>\n      <td>...</td>\n      <td>...</td>\n      <td>...</td>\n      <td>...</td>\n      <td>...</td>\n      <td>...</td>\n      <td>...</td>\n      <td>...</td>\n    </tr>\n    <tr>\n      <th>492849</th>\n      <td>492843</td>\n      <td>413226</td>\n      <td>2008</td>\n      <td>2.803983e+10</td>\n      <td>362726.0</td>\n      <td>STEEN OUTDOOR ADVERTISING</td>\n      <td>2008-09-09 00:00:00</td>\n      <td>None</td>\n      <td>10964.00</td>\n      <td>Advertising Expenses</td>\n      <td>...</td>\n      <td>F5</td>\n      <td>1.091120e+18</td>\n      <td>None</td>\n      <td>None</td>\n      <td>t</td>\n      <td>None</td>\n      <td>None</td>\n      <td>None</td>\n      <td>SE-F57</td>\n      <td>http://docquery.fec.gov/cgi-bin/fecimg/?280398...</td>\n    </tr>\n    <tr>\n      <th>492850</th>\n      <td>492844</td>\n      <td>413227</td>\n      <td>2008</td>\n      <td>2.899238e+10</td>\n      <td>366604.0</td>\n      <td>CLUB FOR GROWTH</td>\n      <td>2008-10-09 00:00:00</td>\n      <td>None</td>\n      <td>72.20</td>\n      <td>Advertising Expenses</td>\n      <td>...</td>\n      <td>F5</td>\n      <td>4.101020e+18</td>\n      <td>None</td>\n      <td>None</td>\n      <td>t</td>\n      <td>None</td>\n      <td>None</td>\n      <td>None</td>\n      <td>SE-F57</td>\n      <td>http://docquery.fec.gov/cgi-bin/fecimg/?289923...</td>\n    </tr>\n    <tr>\n      <th>492851</th>\n      <td>492845</td>\n      <td>413228</td>\n      <td>2008</td>\n      <td>2.803986e+10</td>\n      <td>387136.0</td>\n      <td>NUCLEAR PICNIC, INC.</td>\n      <td>2008-10-13 00:00:00</td>\n      <td>None</td>\n      <td>1500.00</td>\n      <td>None</td>\n      <td>...</td>\n      <td>F5</td>\n      <td>1.101520e+18</td>\n      <td>None</td>\n      <td>None</td>\n      <td>t</td>\n      <td>None</td>\n      <td>None</td>\n      <td>None</td>\n      <td>SE-F57</td>\n      <td>http://docquery.fec.gov/cgi-bin/fecimg/?280398...</td>\n    </tr>\n    <tr>\n      <th>492852</th>\n      <td>492846</td>\n      <td>413229</td>\n      <td>2008</td>\n      <td>2.803986e+10</td>\n      <td>387136.0</td>\n      <td>SEE3 COMMUNICATIONS LLC</td>\n      <td>2008-10-13 00:00:00</td>\n      <td>None</td>\n      <td>15000.00</td>\n      <td>None</td>\n      <td>...</td>\n      <td>F5</td>\n      <td>1.101520e+18</td>\n      <td>None</td>\n      <td>None</td>\n      <td>t</td>\n      <td>None</td>\n      <td>None</td>\n      <td>None</td>\n      <td>SE-F57</td>\n      <td>http://docquery.fec.gov/cgi-bin/fecimg/?280398...</td>\n    </tr>\n    <tr>\n      <th>492853</th>\n      <td>492847</td>\n      <td>413230</td>\n      <td>2008</td>\n      <td>2.803986e+10</td>\n      <td>387136.0</td>\n      <td>O'CONNELL, BRIAN</td>\n      <td>2008-10-13 00:00:00</td>\n      <td>None</td>\n      <td>900.00</td>\n      <td>None</td>\n      <td>...</td>\n      <td>F5</td>\n      <td>1.101520e+18</td>\n      <td>None</td>\n      <td>None</td>\n      <td>t</td>\n      <td>None</td>\n      <td>None</td>\n      <td>None</td>\n      <td>SE-F57</td>\n      <td>http://docquery.fec.gov/cgi-bin/fecimg/?280398...</td>\n    </tr>\n  </tbody>\n</table>\n<p>492854 rows × 73 columns</p>\n</div>"
     },
     "metadata": {},
     "execution_count": 58
    }
   ],
   "source": [
    "import pandas as pd\n",
    "import psycopg2 as pg\n",
    "df = 'fec_independent_expenditures_model'\n",
    "engine = pg.connect(\"dbname='postgres' user='postgres' host='elections.c8frdoyd7uok.us-east-2.rds.amazonaws.com' port='5432' password='Flowers89!'\")\n",
    "df = pd.read_sql(f'select * from {df}', con=engine)\n",
    "df"
   ]
  },
  {
   "cell_type": "code",
   "execution_count": null,
   "metadata": {},
   "outputs": [],
   "source": []
  }
 ]
}