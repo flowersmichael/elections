{
 "metadata": {
  "language_info": {
   "codemirror_mode": {
    "name": "ipython",
    "version": 3
   },
   "file_extension": ".py",
   "mimetype": "text/x-python",
   "name": "python",
   "nbconvert_exporter": "python",
   "pygments_lexer": "ipython3",
   "version": "3.7.10"
  },
  "orig_nbformat": 2,
  "kernelspec": {
   "name": "python3710jvsc74a57bd0c10d354e963c3ef3cfe26ce7f2c15db051cec7895d853c3c04a448c95c5a7793",
   "display_name": "Python 3.7.10 64-bit ('tf': conda)"
  },
  "metadata": {
   "interpreter": {
    "hash": "c10d354e963c3ef3cfe26ce7f2c15db051cec7895d853c3c04a448c95c5a7793"
   }
  }
 },
 "nbformat": 4,
 "nbformat_minor": 2,
 "cells": [
  {
   "cell_type": "code",
   "execution_count": 22,
   "metadata": {},
   "outputs": [],
   "source": [
    "import pandas as pd\n",
    "import numpy as np\n",
    "import tensorflow as tf\n",
    "from sklearn.preprocessing import StandardScaler, MinMaxScaler\n",
    "from sklearn.model_selection import train_test_split\n",
    "from sklearn.metrics import r2_score\n",
    "from pandas.api.types import is_string_dtype\n",
    "from pandas.api.types import is_numeric_dtype"
   ]
  },
  {
   "cell_type": "code",
   "execution_count": 23,
   "metadata": {},
   "outputs": [
    {
     "output_type": "execute_result",
     "data": {
      "text/plain": [
       "   _year   _state state_po  state_fips  state_cen  state_ic     office  \\\n",
       "0   1976  ARIZONA       AZ           4         86        61  US SENATE   \n",
       "1   1976  ARIZONA       AZ           4         86        61  US SENATE   \n",
       "2   1976  ARIZONA       AZ           4         86        61  US SENATE   \n",
       "3   1976  ARIZONA       AZ           4         86        61  US SENATE   \n",
       "4   1976  ARIZONA       AZ           4         86        61  US SENATE   \n",
       "\n",
       "    district stage  special            candidate party_detailed  writein  \\\n",
       "0  statewide   gen    False          SAM STEIGER     REPUBLICAN    False   \n",
       "1  statewide   gen    False  WM. MATHEWS FEIGHAN    INDEPENDENT    False   \n",
       "2  statewide   gen    False     DENNIS DECONCINI       DEMOCRAT    False   \n",
       "3  statewide   gen    False        ALLAN NORWITZ    LIBERTARIAN    False   \n",
       "4  statewide   gen    False            BOB FIELD    INDEPENDENT    False   \n",
       "\n",
       "   _mode  candidatevotes  totalvotes  unofficial  _version party_simplified  \n",
       "0  total          321236      741210       False  20210114       REPUBLICAN  \n",
       "1  total            1565      741210       False  20210114            OTHER  \n",
       "2  total          400334      741210       False  20210114         DEMOCRAT  \n",
       "3  total            7310      741210       False  20210114      LIBERTARIAN  \n",
       "4  total           10765      741210       False  20210114            OTHER  "
      ],
      "text/html": "<div>\n<style scoped>\n    .dataframe tbody tr th:only-of-type {\n        vertical-align: middle;\n    }\n\n    .dataframe tbody tr th {\n        vertical-align: top;\n    }\n\n    .dataframe thead th {\n        text-align: right;\n    }\n</style>\n<table border=\"1\" class=\"dataframe\">\n  <thead>\n    <tr style=\"text-align: right;\">\n      <th></th>\n      <th>_year</th>\n      <th>_state</th>\n      <th>state_po</th>\n      <th>state_fips</th>\n      <th>state_cen</th>\n      <th>state_ic</th>\n      <th>office</th>\n      <th>district</th>\n      <th>stage</th>\n      <th>special</th>\n      <th>candidate</th>\n      <th>party_detailed</th>\n      <th>writein</th>\n      <th>_mode</th>\n      <th>candidatevotes</th>\n      <th>totalvotes</th>\n      <th>unofficial</th>\n      <th>_version</th>\n      <th>party_simplified</th>\n    </tr>\n  </thead>\n  <tbody>\n    <tr>\n      <th>0</th>\n      <td>1976</td>\n      <td>ARIZONA</td>\n      <td>AZ</td>\n      <td>4</td>\n      <td>86</td>\n      <td>61</td>\n      <td>US SENATE</td>\n      <td>statewide</td>\n      <td>gen</td>\n      <td>False</td>\n      <td>SAM STEIGER</td>\n      <td>REPUBLICAN</td>\n      <td>False</td>\n      <td>total</td>\n      <td>321236</td>\n      <td>741210</td>\n      <td>False</td>\n      <td>20210114</td>\n      <td>REPUBLICAN</td>\n    </tr>\n    <tr>\n      <th>1</th>\n      <td>1976</td>\n      <td>ARIZONA</td>\n      <td>AZ</td>\n      <td>4</td>\n      <td>86</td>\n      <td>61</td>\n      <td>US SENATE</td>\n      <td>statewide</td>\n      <td>gen</td>\n      <td>False</td>\n      <td>WM. MATHEWS FEIGHAN</td>\n      <td>INDEPENDENT</td>\n      <td>False</td>\n      <td>total</td>\n      <td>1565</td>\n      <td>741210</td>\n      <td>False</td>\n      <td>20210114</td>\n      <td>OTHER</td>\n    </tr>\n    <tr>\n      <th>2</th>\n      <td>1976</td>\n      <td>ARIZONA</td>\n      <td>AZ</td>\n      <td>4</td>\n      <td>86</td>\n      <td>61</td>\n      <td>US SENATE</td>\n      <td>statewide</td>\n      <td>gen</td>\n      <td>False</td>\n      <td>DENNIS DECONCINI</td>\n      <td>DEMOCRAT</td>\n      <td>False</td>\n      <td>total</td>\n      <td>400334</td>\n      <td>741210</td>\n      <td>False</td>\n      <td>20210114</td>\n      <td>DEMOCRAT</td>\n    </tr>\n    <tr>\n      <th>3</th>\n      <td>1976</td>\n      <td>ARIZONA</td>\n      <td>AZ</td>\n      <td>4</td>\n      <td>86</td>\n      <td>61</td>\n      <td>US SENATE</td>\n      <td>statewide</td>\n      <td>gen</td>\n      <td>False</td>\n      <td>ALLAN NORWITZ</td>\n      <td>LIBERTARIAN</td>\n      <td>False</td>\n      <td>total</td>\n      <td>7310</td>\n      <td>741210</td>\n      <td>False</td>\n      <td>20210114</td>\n      <td>LIBERTARIAN</td>\n    </tr>\n    <tr>\n      <th>4</th>\n      <td>1976</td>\n      <td>ARIZONA</td>\n      <td>AZ</td>\n      <td>4</td>\n      <td>86</td>\n      <td>61</td>\n      <td>US SENATE</td>\n      <td>statewide</td>\n      <td>gen</td>\n      <td>False</td>\n      <td>BOB FIELD</td>\n      <td>INDEPENDENT</td>\n      <td>False</td>\n      <td>total</td>\n      <td>10765</td>\n      <td>741210</td>\n      <td>False</td>\n      <td>20210114</td>\n      <td>OTHER</td>\n    </tr>\n  </tbody>\n</table>\n</div>"
     },
     "metadata": {},
     "execution_count": 23
    }
   ],
   "source": [
    "df = pd.read_csv('senate_dataset.csv')\n",
    "df.head()"
   ]
  },
  {
   "cell_type": "code",
   "execution_count": 24,
   "metadata": {},
   "outputs": [
    {
     "output_type": "stream",
     "name": "stdout",
     "text": [
      "['_year', 'state_fips', 'state_cen', 'state_ic', 'special', 'writein', 'candidatevotes', 'totalvotes', 'unofficial', '_version']\n['_state', 'state_po', 'office', 'district', 'stage', 'candidate', 'party_detailed', '_mode', 'party_simplified']\n"
     ]
    }
   ],
   "source": [
    "# Create category_columns and numeric_columns variables\n",
    "numeric_columns = []\n",
    "category_columns = []\n",
    "for col in df.columns:\n",
    "    if is_string_dtype(df[col]) == True:\n",
    "        category_columns.append(col)\n",
    "    elif is_numeric_dtype(df[col]) == True:\n",
    "        numeric_columns.append(col)\n",
    "print(numeric_columns)\n",
    "print(category_columns)"
   ]
  },
  {
   "cell_type": "code",
   "execution_count": 25,
   "metadata": {},
   "outputs": [
    {
     "output_type": "execute_result",
     "data": {
      "text/plain": [
       "      _year  state_fips  state_cen  state_ic  special  writein  \\\n",
       "0      1976           4         86        61    False    False   \n",
       "1      1976           4         86        61    False    False   \n",
       "2      1976           4         86        61    False    False   \n",
       "3      1976           4         86        61    False    False   \n",
       "4      1976           4         86        61    False    False   \n",
       "...     ...         ...        ...       ...      ...      ...   \n",
       "3624   2020          56         83        68    False    False   \n",
       "3625   2021          13         58        44     True    False   \n",
       "3626   2021          13         58        44     True    False   \n",
       "3627   2021          13         58        44    False    False   \n",
       "3628   2021          13         58        44    False    False   \n",
       "\n",
       "      candidatevotes  totalvotes  unofficial  _version  ...  \\\n",
       "0             321236      741210       False  20210114  ...   \n",
       "1               1565      741210       False  20210114  ...   \n",
       "2             400334      741210       False  20210114  ...   \n",
       "3               7310      741210       False  20210114  ...   \n",
       "4              10765      741210       False  20210114  ...   \n",
       "...              ...         ...         ...       ...  ...   \n",
       "3624            6401      278503       False  20210114  ...   \n",
       "3625         2194848     4483294        True  20210114  ...   \n",
       "3626         2288446     4483294        True  20210114  ...   \n",
       "3627         2213979     4483241        True  20210114  ...   \n",
       "3628         2269262     4483241        True  20210114  ...   \n",
       "\n",
       "      party_detailed_WORKERS  party_detailed_WORKERS AGAINST CONCESSIONS  \\\n",
       "0                          0                                           0   \n",
       "1                          0                                           0   \n",
       "2                          0                                           0   \n",
       "3                          0                                           0   \n",
       "4                          0                                           0   \n",
       "...                      ...                                         ...   \n",
       "3624                       0                                           0   \n",
       "3625                       0                                           0   \n",
       "3626                       0                                           0   \n",
       "3627                       0                                           0   \n",
       "3628                       0                                           0   \n",
       "\n",
       "      party_detailed_WORKERS LEAGUE  party_detailed_WORKERS WORLD  \\\n",
       "0                                 0                             0   \n",
       "1                                 0                             0   \n",
       "2                                 0                             0   \n",
       "3                                 0                             0   \n",
       "4                                 0                             0   \n",
       "...                             ...                           ...   \n",
       "3624                              0                             0   \n",
       "3625                              0                             0   \n",
       "3626                              0                             0   \n",
       "3627                              0                             0   \n",
       "3628                              0                             0   \n",
       "\n",
       "      party_detailed_WORKING FAMILIES  _mode_total  party_simplified_DEMOCRAT  \\\n",
       "0                                   0            1                          0   \n",
       "1                                   0            1                          0   \n",
       "2                                   0            1                          1   \n",
       "3                                   0            1                          0   \n",
       "4                                   0            1                          0   \n",
       "...                               ...          ...                        ...   \n",
       "3624                                0            1                          0   \n",
       "3625                                0            1                          0   \n",
       "3626                                0            1                          1   \n",
       "3627                                0            1                          0   \n",
       "3628                                0            1                          1   \n",
       "\n",
       "      party_simplified_LIBERTARIAN  party_simplified_OTHER  \\\n",
       "0                                0                       0   \n",
       "1                                0                       1   \n",
       "2                                0                       0   \n",
       "3                                1                       0   \n",
       "4                                0                       1   \n",
       "...                            ...                     ...   \n",
       "3624                             0                       1   \n",
       "3625                             0                       0   \n",
       "3626                             0                       0   \n",
       "3627                             0                       0   \n",
       "3628                             0                       0   \n",
       "\n",
       "      party_simplified_REPUBLICAN  \n",
       "0                               1  \n",
       "1                               0  \n",
       "2                               0  \n",
       "3                               0  \n",
       "4                               0  \n",
       "...                           ...  \n",
       "3624                            0  \n",
       "3625                            1  \n",
       "3626                            0  \n",
       "3627                            1  \n",
       "3628                            0  \n",
       "\n",
       "[3629 rows x 2670 columns]"
      ],
      "text/html": "<div>\n<style scoped>\n    .dataframe tbody tr th:only-of-type {\n        vertical-align: middle;\n    }\n\n    .dataframe tbody tr th {\n        vertical-align: top;\n    }\n\n    .dataframe thead th {\n        text-align: right;\n    }\n</style>\n<table border=\"1\" class=\"dataframe\">\n  <thead>\n    <tr style=\"text-align: right;\">\n      <th></th>\n      <th>_year</th>\n      <th>state_fips</th>\n      <th>state_cen</th>\n      <th>state_ic</th>\n      <th>special</th>\n      <th>writein</th>\n      <th>candidatevotes</th>\n      <th>totalvotes</th>\n      <th>unofficial</th>\n      <th>_version</th>\n      <th>...</th>\n      <th>party_detailed_WORKERS</th>\n      <th>party_detailed_WORKERS AGAINST CONCESSIONS</th>\n      <th>party_detailed_WORKERS LEAGUE</th>\n      <th>party_detailed_WORKERS WORLD</th>\n      <th>party_detailed_WORKING FAMILIES</th>\n      <th>_mode_total</th>\n      <th>party_simplified_DEMOCRAT</th>\n      <th>party_simplified_LIBERTARIAN</th>\n      <th>party_simplified_OTHER</th>\n      <th>party_simplified_REPUBLICAN</th>\n    </tr>\n  </thead>\n  <tbody>\n    <tr>\n      <th>0</th>\n      <td>1976</td>\n      <td>4</td>\n      <td>86</td>\n      <td>61</td>\n      <td>False</td>\n      <td>False</td>\n      <td>321236</td>\n      <td>741210</td>\n      <td>False</td>\n      <td>20210114</td>\n      <td>...</td>\n      <td>0</td>\n      <td>0</td>\n      <td>0</td>\n      <td>0</td>\n      <td>0</td>\n      <td>1</td>\n      <td>0</td>\n      <td>0</td>\n      <td>0</td>\n      <td>1</td>\n    </tr>\n    <tr>\n      <th>1</th>\n      <td>1976</td>\n      <td>4</td>\n      <td>86</td>\n      <td>61</td>\n      <td>False</td>\n      <td>False</td>\n      <td>1565</td>\n      <td>741210</td>\n      <td>False</td>\n      <td>20210114</td>\n      <td>...</td>\n      <td>0</td>\n      <td>0</td>\n      <td>0</td>\n      <td>0</td>\n      <td>0</td>\n      <td>1</td>\n      <td>0</td>\n      <td>0</td>\n      <td>1</td>\n      <td>0</td>\n    </tr>\n    <tr>\n      <th>2</th>\n      <td>1976</td>\n      <td>4</td>\n      <td>86</td>\n      <td>61</td>\n      <td>False</td>\n      <td>False</td>\n      <td>400334</td>\n      <td>741210</td>\n      <td>False</td>\n      <td>20210114</td>\n      <td>...</td>\n      <td>0</td>\n      <td>0</td>\n      <td>0</td>\n      <td>0</td>\n      <td>0</td>\n      <td>1</td>\n      <td>1</td>\n      <td>0</td>\n      <td>0</td>\n      <td>0</td>\n    </tr>\n    <tr>\n      <th>3</th>\n      <td>1976</td>\n      <td>4</td>\n      <td>86</td>\n      <td>61</td>\n      <td>False</td>\n      <td>False</td>\n      <td>7310</td>\n      <td>741210</td>\n      <td>False</td>\n      <td>20210114</td>\n      <td>...</td>\n      <td>0</td>\n      <td>0</td>\n      <td>0</td>\n      <td>0</td>\n      <td>0</td>\n      <td>1</td>\n      <td>0</td>\n      <td>1</td>\n      <td>0</td>\n      <td>0</td>\n    </tr>\n    <tr>\n      <th>4</th>\n      <td>1976</td>\n      <td>4</td>\n      <td>86</td>\n      <td>61</td>\n      <td>False</td>\n      <td>False</td>\n      <td>10765</td>\n      <td>741210</td>\n      <td>False</td>\n      <td>20210114</td>\n      <td>...</td>\n      <td>0</td>\n      <td>0</td>\n      <td>0</td>\n      <td>0</td>\n      <td>0</td>\n      <td>1</td>\n      <td>0</td>\n      <td>0</td>\n      <td>1</td>\n      <td>0</td>\n    </tr>\n    <tr>\n      <th>...</th>\n      <td>...</td>\n      <td>...</td>\n      <td>...</td>\n      <td>...</td>\n      <td>...</td>\n      <td>...</td>\n      <td>...</td>\n      <td>...</td>\n      <td>...</td>\n      <td>...</td>\n      <td>...</td>\n      <td>...</td>\n      <td>...</td>\n      <td>...</td>\n      <td>...</td>\n      <td>...</td>\n      <td>...</td>\n      <td>...</td>\n      <td>...</td>\n      <td>...</td>\n      <td>...</td>\n    </tr>\n    <tr>\n      <th>3624</th>\n      <td>2020</td>\n      <td>56</td>\n      <td>83</td>\n      <td>68</td>\n      <td>False</td>\n      <td>False</td>\n      <td>6401</td>\n      <td>278503</td>\n      <td>False</td>\n      <td>20210114</td>\n      <td>...</td>\n      <td>0</td>\n      <td>0</td>\n      <td>0</td>\n      <td>0</td>\n      <td>0</td>\n      <td>1</td>\n      <td>0</td>\n      <td>0</td>\n      <td>1</td>\n      <td>0</td>\n    </tr>\n    <tr>\n      <th>3625</th>\n      <td>2021</td>\n      <td>13</td>\n      <td>58</td>\n      <td>44</td>\n      <td>True</td>\n      <td>False</td>\n      <td>2194848</td>\n      <td>4483294</td>\n      <td>True</td>\n      <td>20210114</td>\n      <td>...</td>\n      <td>0</td>\n      <td>0</td>\n      <td>0</td>\n      <td>0</td>\n      <td>0</td>\n      <td>1</td>\n      <td>0</td>\n      <td>0</td>\n      <td>0</td>\n      <td>1</td>\n    </tr>\n    <tr>\n      <th>3626</th>\n      <td>2021</td>\n      <td>13</td>\n      <td>58</td>\n      <td>44</td>\n      <td>True</td>\n      <td>False</td>\n      <td>2288446</td>\n      <td>4483294</td>\n      <td>True</td>\n      <td>20210114</td>\n      <td>...</td>\n      <td>0</td>\n      <td>0</td>\n      <td>0</td>\n      <td>0</td>\n      <td>0</td>\n      <td>1</td>\n      <td>1</td>\n      <td>0</td>\n      <td>0</td>\n      <td>0</td>\n    </tr>\n    <tr>\n      <th>3627</th>\n      <td>2021</td>\n      <td>13</td>\n      <td>58</td>\n      <td>44</td>\n      <td>False</td>\n      <td>False</td>\n      <td>2213979</td>\n      <td>4483241</td>\n      <td>True</td>\n      <td>20210114</td>\n      <td>...</td>\n      <td>0</td>\n      <td>0</td>\n      <td>0</td>\n      <td>0</td>\n      <td>0</td>\n      <td>1</td>\n      <td>0</td>\n      <td>0</td>\n      <td>0</td>\n      <td>1</td>\n    </tr>\n    <tr>\n      <th>3628</th>\n      <td>2021</td>\n      <td>13</td>\n      <td>58</td>\n      <td>44</td>\n      <td>False</td>\n      <td>False</td>\n      <td>2269262</td>\n      <td>4483241</td>\n      <td>True</td>\n      <td>20210114</td>\n      <td>...</td>\n      <td>0</td>\n      <td>0</td>\n      <td>0</td>\n      <td>0</td>\n      <td>0</td>\n      <td>1</td>\n      <td>1</td>\n      <td>0</td>\n      <td>0</td>\n      <td>0</td>\n    </tr>\n  </tbody>\n</table>\n<p>3629 rows × 2670 columns</p>\n</div>"
     },
     "metadata": {},
     "execution_count": 25
    }
   ],
   "source": [
    " #Create dummy variables for the category_columns and merge on the numeric_columns to create an X dataset\n",
    "category_columns = pd.get_dummies(df[category_columns])\n",
    "category_columns\n",
    "X = df[numeric_columns].merge(category_columns, left_index= True, right_index= True)\n",
    "X"
   ]
  },
  {
   "cell_type": "code",
   "execution_count": 26,
   "metadata": {},
   "outputs": [
    {
     "output_type": "execute_result",
     "data": {
      "text/plain": [
       "array([ 741210,  741210,  741210, ..., 4483294, 4483241, 4483241])"
      ]
     },
     "metadata": {},
     "execution_count": 26
    }
   ],
   "source": [
    "y = df['totalvotes'].values\n",
    "y"
   ]
  },
  {
   "cell_type": "code",
   "execution_count": 27,
   "metadata": {},
   "outputs": [],
   "source": [
    "# Split X and y into training and testing sets\n",
    "X_train, X_test, y_train, y_test = train_test_split(X, y, random_state=42)"
   ]
  },
  {
   "cell_type": "code",
   "execution_count": 28,
   "metadata": {},
   "outputs": [
    {
     "output_type": "execute_result",
     "data": {
      "text/plain": [
       "2670"
      ]
     },
     "metadata": {},
     "execution_count": 28
    }
   ],
   "source": [
    "# Scale X_train and X_test\n",
    "scaler = MinMaxScaler()\n",
    "X_train_scaled = scaler.fit_transform(X_train)\n",
    "X_test_scaled = scaler.fit_transform(X_test)\n",
    "len(X_train_scaled[0])"
   ]
  },
  {
   "cell_type": "code",
   "execution_count": 29,
   "metadata": {},
   "outputs": [],
   "source": [
    "# Create a neural network model with keras\n",
    "nn = tf.keras.models.Sequential()"
   ]
  },
  {
   "cell_type": "code",
   "execution_count": 30,
   "metadata": {},
   "outputs": [],
   "source": [
    "# Add a hidden layer with twice as many neurons as there are inputs. Use 'relu'\n",
    "n_input = len(X_train_scaled[0])\n",
    "n_hidden = n_input * 2\n",
    "n_hidden_layer2 = n_input * 2\n",
    "nn.add(tf.keras.layers.Dense(units=n_hidden, input_dim=n_input, activation='relu'))\n",
    "nn.add(tf.keras.layers.Dense(units=n_hidden_layer2, activation='relu'))"
   ]
  },
  {
   "cell_type": "code",
   "execution_count": 31,
   "metadata": {},
   "outputs": [],
   "source": [
    "# add an output layer with a 'linear' activation function.\n",
    "nn.add(tf.keras.layers.Dense(units=1,  activation='linear'))"
   ]
  },
  {
   "cell_type": "code",
   "execution_count": 32,
   "metadata": {},
   "outputs": [
    {
     "output_type": "stream",
     "name": "stdout",
     "text": [
      "Model: \"sequential_1\"\n_________________________________________________________________\nLayer (type)                 Output Shape              Param #   \n=================================================================\ndense_2 (Dense)              (None, 5340)              14263140  \n_________________________________________________________________\ndense_3 (Dense)              (None, 5340)              28520940  \n_________________________________________________________________\ndense_4 (Dense)              (None, 1)                 5341      \n=================================================================\nTotal params: 42,789,421\nTrainable params: 42,789,421\nNon-trainable params: 0\n_________________________________________________________________\n"
     ]
    }
   ],
   "source": [
    "# print a summary of the model\n",
    "nn.summary()"
   ]
  },
  {
   "cell_type": "code",
   "execution_count": 33,
   "metadata": {},
   "outputs": [],
   "source": [
    "# compile the model using the \"adam\" optimizer and \"mean_squared_error\" loss function\n",
    "nn.compile(loss='mean_squared_error' , optimizer='adam' , metrics=['mse'])"
   ]
  },
  {
   "cell_type": "code",
   "execution_count": 34,
   "metadata": {},
   "outputs": [
    {
     "output_type": "stream",
     "name": "stdout",
     "text": [
      "Train on 2721 samples\n",
      "Epoch 1/100\n",
      "2721/2721 [==============================] - 26s 9ms/sample - loss: 9137097668036.7266 - mse: 9137096228864.0000\n",
      "Epoch 2/100\n",
      "2721/2721 [==============================] - 25s 9ms/sample - loss: 6277538648158.8350 - mse: 6277538775040.0000\n",
      "Epoch 3/100\n",
      "2721/2721 [==============================] - 26s 9ms/sample - loss: 3440354680967.4800 - mse: 3440354787328.0000\n",
      "Epoch 4/100\n",
      "2721/2721 [==============================] - 25s 9ms/sample - loss: 2529076835052.1484 - mse: 2529077231616.0000\n",
      "Epoch 5/100\n",
      "2721/2721 [==============================] - 25s 9ms/sample - loss: 1700134191441.1936 - mse: 1700134256640.0000\n",
      "Epoch 6/100\n",
      "2721/2721 [==============================] - 27s 10ms/sample - loss: 1009713483280.7467 - mse: 1009713610752.0000\n",
      "Epoch 7/100\n",
      "2721/2721 [==============================] - 27s 10ms/sample - loss: 611855767309.6421 - mse: 611855892480.0000\n",
      "Epoch 8/100\n",
      "2721/2721 [==============================] - 26s 10ms/sample - loss: 431502435476.2749 - mse: 431502393344.0000\n",
      "Epoch 9/100\n",
      "2721/2721 [==============================] - 26s 10ms/sample - loss: 336102848019.0048 - mse: 336102817792.0000\n",
      "Epoch 10/100\n",
      "2721/2721 [==============================] - 26s 9ms/sample - loss: 281620610864.2176 - mse: 281620611072.0000\n",
      "Epoch 11/100\n",
      "2721/2721 [==============================] - 26s 10ms/sample - loss: 241370084166.4682 - mse: 241370038272.0000\n",
      "Epoch 12/100\n",
      "2721/2721 [==============================] - 26s 10ms/sample - loss: 215040277169.5112 - mse: 215040278528.0000\n",
      "Epoch 13/100\n",
      "2721/2721 [==============================] - 28s 10ms/sample - loss: 194088462789.8567 - mse: 194088501248.0000\n",
      "Epoch 14/100\n",
      "2721/2721 [==============================] - 27s 10ms/sample - loss: 178563403222.1330 - mse: 178563448832.0000\n",
      "Epoch 15/100\n",
      "2721/2721 [==============================] - 26s 10ms/sample - loss: 166539878142.4947 - mse: 166539902976.0000\n",
      "Epoch 16/100\n",
      "2721/2721 [==============================] - 27s 10ms/sample - loss: 156002384179.6986 - mse: 156002418688.0000\n",
      "Epoch 17/100\n",
      "2721/2721 [==============================] - 26s 10ms/sample - loss: 146294189232.8762 - mse: 146294177792.0000\n",
      "Epoch 18/100\n",
      "2721/2721 [==============================] - 25s 9ms/sample - loss: 136964561889.5847 - mse: 136964579328.0000\n",
      "Epoch 19/100\n",
      "2721/2721 [==============================] - 26s 9ms/sample - loss: 129243166724.7571 - mse: 129243127808.0000\n",
      "Epoch 20/100\n",
      "2721/2721 [==============================] - 25s 9ms/sample - loss: 121758174248.9261 - mse: 121758179328.0000\n",
      "Epoch 21/100\n",
      "2721/2721 [==============================] - 25s 9ms/sample - loss: 115553970168.9438 - mse: 115553976320.0000\n",
      "Epoch 22/100\n",
      "2721/2721 [==============================] - 25s 9ms/sample - loss: 108882985733.9272 - mse: 108882968576.0000\n",
      "Epoch 23/100\n",
      "2721/2721 [==============================] - 26s 9ms/sample - loss: 103777551693.4304 - mse: 103777542144.0000\n",
      "Epoch 24/100\n",
      "2721/2721 [==============================] - 25s 9ms/sample - loss: 97282242410.5961 - mse: 97282252800.0000\n",
      "Epoch 25/100\n",
      "2721/2721 [==============================] - 25s 9ms/sample - loss: 92166755324.6836 - mse: 92166758400.0000\n",
      "Epoch 26/100\n",
      "2721/2721 [==============================] - 25s 9ms/sample - loss: 88048415806.8475 - mse: 88048410624.0000\n",
      "Epoch 27/100\n",
      "2721/2721 [==============================] - 25s 9ms/sample - loss: 83551734679.4502 - mse: 83551739904.0000\n",
      "Epoch 28/100\n",
      "2721/2721 [==============================] - 25s 9ms/sample - loss: 79121471521.8699 - mse: 79121506304.0000\n",
      "Epoch 29/100\n",
      "2721/2721 [==============================] - 25s 9ms/sample - loss: 77483858292.5689 - mse: 77483851776.0000\n",
      "Epoch 30/100\n",
      "2721/2721 [==============================] - 25s 9ms/sample - loss: 72287939632.4763 - mse: 72287928320.0000\n",
      "Epoch 31/100\n",
      "2721/2721 [==============================] - 25s 9ms/sample - loss: 69078062731.2429 - mse: 69078065152.0000\n",
      "Epoch 32/100\n",
      "2721/2721 [==============================] - 26s 9ms/sample - loss: 66110091849.4789 - mse: 66110099456.0000\n",
      "Epoch 33/100\n",
      "2721/2721 [==============================] - 25s 9ms/sample - loss: 62882488725.6861 - mse: 62882496512.0000\n",
      "Epoch 34/100\n",
      "2721/2721 [==============================] - 25s 9ms/sample - loss: 60542226777.4730 - mse: 60542222336.0000\n",
      "Epoch 35/100\n",
      "2721/2721 [==============================] - 27s 10ms/sample - loss: 58317107338.1022 - mse: 58317103104.0000\n",
      "Epoch 36/100\n",
      "2721/2721 [==============================] - 29s 11ms/sample - loss: 55996159371.2194 - mse: 55996149760.0000\n",
      "Epoch 37/100\n",
      "2721/2721 [==============================] - 27s 10ms/sample - loss: 53948751698.5579 - mse: 53948743680.0000\n",
      "Epoch 38/100\n",
      "2721/2721 [==============================] - 27s 10ms/sample - loss: 51805877145.2613 - mse: 51805859840.0000\n",
      "Epoch 39/100\n",
      "2721/2721 [==============================] - 27s 10ms/sample - loss: 50198877828.6571 - mse: 50198880256.0000\n",
      "Epoch 40/100\n",
      "2721/2721 [==============================] - 26s 9ms/sample - loss: 48565205815.2268 - mse: 48565198848.0000\n",
      "Epoch 41/100\n",
      "2721/2721 [==============================] - 26s 9ms/sample - loss: 47358217947.9662 - mse: 47358218240.0000\n",
      "Epoch 42/100\n",
      "2721/2721 [==============================] - 26s 9ms/sample - loss: 45895947424.6939 - mse: 45895946240.0000\n",
      "Epoch 43/100\n",
      "2721/2721 [==============================] - 26s 10ms/sample - loss: 45289684470.4976 - mse: 45289680896.0000\n",
      "Epoch 44/100\n",
      "2721/2721 [==============================] - 27s 10ms/sample - loss: 43077293134.3006 - mse: 43077287936.0000\n",
      "Epoch 45/100\n",
      "2721/2721 [==============================] - 26s 10ms/sample - loss: 41625045765.1746 - mse: 41625051136.0000\n",
      "Epoch 46/100\n",
      "2721/2721 [==============================] - 27s 10ms/sample - loss: 40630286431.4002 - mse: 40630292480.0000\n",
      "Epoch 47/100\n",
      "2721/2721 [==============================] - 26s 9ms/sample - loss: 39356017045.6861 - mse: 39356006400.0000\n",
      "Epoch 48/100\n",
      "2721/2721 [==============================] - 26s 10ms/sample - loss: 38809837649.2878 - mse: 38809833472.0000\n",
      "Epoch 49/100\n",
      "2721/2721 [==============================] - 27s 10ms/sample - loss: 38703084471.3679 - mse: 38703091712.0000\n",
      "Epoch 50/100\n",
      "2721/2721 [==============================] - 26s 10ms/sample - loss: 36942562582.6564 - mse: 36942565376.0000\n",
      "Epoch 51/100\n",
      "2721/2721 [==============================] - 26s 10ms/sample - loss: 34872347503.8648 - mse: 34872344576.0000\n",
      "Epoch 52/100\n",
      "2721/2721 [==============================] - 25s 9ms/sample - loss: 34160598657.6465 - mse: 34160603136.0000\n",
      "Epoch 53/100\n",
      "2721/2721 [==============================] - 25s 9ms/sample - loss: 35783884947.3341 - mse: 35783876608.0000\n",
      "Epoch 54/100\n",
      "2721/2721 [==============================] - 25s 9ms/sample - loss: 33345113560.0029 - mse: 33345112064.0000\n",
      "Epoch 55/100\n",
      "2721/2721 [==============================] - 25s 9ms/sample - loss: 31132944436.6893 - mse: 31132944384.0000\n",
      "Epoch 56/100\n",
      "2721/2721 [==============================] - 25s 9ms/sample - loss: 30888839968.7879 - mse: 30888851456.0000\n",
      "Epoch 57/100\n",
      "2721/2721 [==============================] - 26s 10ms/sample - loss: 29733972289.9993 - mse: 29733980160.0000\n",
      "Epoch 58/100\n",
      "2721/2721 [==============================] - 26s 9ms/sample - loss: 28716609699.4678 - mse: 28716609536.0000\n",
      "Epoch 59/100\n",
      "2721/2721 [==============================] - 28s 10ms/sample - loss: 28193275670.6740 - mse: 28193273856.0000\n",
      "Epoch 60/100\n",
      "2721/2721 [==============================] - 25s 9ms/sample - loss: 28306791376.2058 - mse: 28306788352.0000\n",
      "Epoch 61/100\n",
      "2721/2721 [==============================] - 25s 9ms/sample - loss: 30826354113.5289 - mse: 30826358784.0000\n",
      "Epoch 62/100\n",
      "2721/2721 [==============================] - 25s 9ms/sample - loss: 26778563097.7788 - mse: 26778566656.0000\n",
      "Epoch 63/100\n",
      "2721/2721 [==============================] - 25s 9ms/sample - loss: 25408422118.9651 - mse: 25408421888.0000\n",
      "Epoch 64/100\n",
      "2721/2721 [==============================] - 25s 9ms/sample - loss: 24119268949.2157 - mse: 24119269376.0000\n",
      "Epoch 65/100\n",
      "2721/2721 [==============================] - 25s 9ms/sample - loss: 23512933151.3297 - mse: 23512930304.0000\n",
      "Epoch 66/100\n",
      "2721/2721 [==============================] - 25s 9ms/sample - loss: 23215387938.4638 - mse: 23215390720.0000\n",
      "Epoch 67/100\n",
      "2721/2721 [==============================] - 26s 9ms/sample - loss: 21890304073.0085 - mse: 21890308096.0000\n",
      "Epoch 68/100\n",
      "2721/2721 [==============================] - 25s 9ms/sample - loss: 21718556042.6784 - mse: 21718554624.0000\n",
      "Epoch 69/100\n",
      "2721/2721 [==============================] - 25s 9ms/sample - loss: 20760480005.1746 - mse: 20760481792.0000\n",
      "Epoch 70/100\n",
      "2721/2721 [==============================] - 25s 9ms/sample - loss: 22675785756.2455 - mse: 22675785728.0000\n",
      "Epoch 71/100\n",
      "2721/2721 [==============================] - 25s 9ms/sample - loss: 19528942935.4914 - mse: 19528941568.0000\n",
      "Epoch 72/100\n",
      "2721/2721 [==============================] - 27s 10ms/sample - loss: 18627110568.8321 - mse: 18627112960.0000\n",
      "Epoch 73/100\n",
      "2721/2721 [==============================] - 27s 10ms/sample - loss: 18255704753.4877 - mse: 18255710208.0000\n",
      "Epoch 74/100\n",
      "2721/2721 [==============================] - 26s 10ms/sample - loss: 17230748167.2339 - mse: 17230745600.0000\n",
      "Epoch 75/100\n",
      "2721/2721 [==============================] - 25s 9ms/sample - loss: 16686405601.7288 - mse: 16686401536.0000\n",
      "Epoch 76/100\n",
      "2721/2721 [==============================] - 27s 10ms/sample - loss: 16331239133.0011 - mse: 16331240448.0000\n",
      "Epoch 77/100\n",
      "2721/2721 [==============================] - 26s 10ms/sample - loss: 16030883353.0496 - mse: 16030882816.0000\n",
      "Epoch 78/100\n",
      "2721/2721 [==============================] - 26s 9ms/sample - loss: 15328240087.7325 - mse: 15328238592.0000\n",
      "Epoch 79/100\n",
      "2721/2721 [==============================] - 25s 9ms/sample - loss: 14814021533.9371 - mse: 14814019584.0000\n",
      "Epoch 80/100\n",
      "2721/2721 [==============================] - 25s 9ms/sample - loss: 14073354628.0926 - mse: 14073353216.0000\n",
      "Epoch 81/100\n",
      "2721/2721 [==============================] - 26s 10ms/sample - loss: 13350092778.7607 - mse: 13350093824.0000\n",
      "Epoch 82/100\n",
      "2721/2721 [==============================] - 26s 10ms/sample - loss: 12882016557.4186 - mse: 12882018304.0000\n",
      "Epoch 83/100\n",
      "2721/2721 [==============================] - 25s 9ms/sample - loss: 12452239917.1128 - mse: 12452241408.0000\n",
      "Epoch 84/100\n",
      "2721/2721 [==============================] - 25s 9ms/sample - loss: 11685922772.6075 - mse: 11685922816.0000\n",
      "Epoch 85/100\n",
      "2721/2721 [==============================] - 26s 9ms/sample - loss: 11361617825.3524 - mse: 11361616896.0000\n",
      "Epoch 86/100\n",
      "2721/2721 [==============================] - 25s 9ms/sample - loss: 11445851860.5571 - mse: 11445849088.0000\n",
      "Epoch 87/100\n",
      "2721/2721 [==============================] - 25s 9ms/sample - loss: 10941698752.4728 - mse: 10941697024.0000\n",
      "Epoch 88/100\n",
      "2721/2721 [==============================] - 25s 9ms/sample - loss: 10134573554.0757 - mse: 10134572032.0000\n",
      "Epoch 89/100\n",
      "2721/2721 [==============================] - 25s 9ms/sample - loss: 9974376288.7174 - mse: 9974375424.0000\n",
      "Epoch 90/100\n",
      "2721/2721 [==============================] - 26s 10ms/sample - loss: 9703110734.8534 - mse: 9703112704.0000\n",
      "Epoch 91/100\n",
      "2721/2721 [==============================] - 26s 9ms/sample - loss: 9019525045.8626 - mse: 9019525120.0000\n",
      "Epoch 92/100\n",
      "2721/2721 [==============================] - 26s 9ms/sample - loss: 8819597270.8387 - mse: 8819597312.0000\n",
      "Epoch 93/100\n",
      "2721/2721 [==============================] - 26s 10ms/sample - loss: 8307529415.1165 - mse: 8307528704.0000\n",
      "Epoch 94/100\n",
      "2721/2721 [==============================] - 25s 9ms/sample - loss: 8223214804.4057 - mse: 8223215616.0000\n",
      "Epoch 95/100\n",
      "2721/2721 [==============================] - 25s 9ms/sample - loss: 8030321913.6024 - mse: 8030324224.0000\n",
      "Epoch 96/100\n",
      "2721/2721 [==============================] - 25s 9ms/sample - loss: 7602784660.1808 - mse: 7602784256.0000\n",
      "Epoch 97/100\n",
      "2721/2721 [==============================] - 26s 9ms/sample - loss: 9758529304.0118 - mse: 9758530560.0000\n",
      "Epoch 98/100\n",
      "2721/2721 [==============================] - 25s 9ms/sample - loss: 8012316564.2514 - mse: 8012315136.0000\n",
      "Epoch 99/100\n",
      "2721/2721 [==============================] - 25s 9ms/sample - loss: 6906894919.7119 - mse: 6906896384.0000\n",
      "Epoch 100/100\n",
      "2721/2721 [==============================] - 26s 9ms/sample - loss: 6614808731.7913 - mse: 6614809600.0000\n"
     ]
    }
   ],
   "source": [
    "# train the model for 100 epochs\n",
    "model = nn.fit(X_train_scaled, y_train, epochs=100)"
   ]
  },
  {
   "cell_type": "code",
   "execution_count": 35,
   "metadata": {},
   "outputs": [],
   "source": [
    "# predict values for the train and test sets\n",
    "y_train_pred = nn.predict(X_train_scaled)\n",
    "y_test_pred = nn.predict(X_test_scaled)"
   ]
  },
  {
   "cell_type": "code",
   "execution_count": 36,
   "metadata": {},
   "outputs": [
    {
     "output_type": "execute_result",
     "data": {
      "text/plain": [
       "0.998724221894063"
      ]
     },
     "metadata": {},
     "execution_count": 36
    }
   ],
   "source": [
    "# score the training predictions with r2_score()\n",
    "r2_score(y_train, y_train_pred)"
   ]
  },
  {
   "cell_type": "code",
   "execution_count": 37,
   "metadata": {},
   "outputs": [
    {
     "output_type": "execute_result",
     "data": {
      "text/plain": [
       "0.9856300295206193"
      ]
     },
     "metadata": {},
     "execution_count": 37
    }
   ],
   "source": [
    "# score the test predictions with r2_score()\n",
    "r2_score(y_test, y_test_pred)"
   ]
  },
  {
   "cell_type": "code",
   "execution_count": null,
   "metadata": {},
   "outputs": [],
   "source": []
  }
 ]
}